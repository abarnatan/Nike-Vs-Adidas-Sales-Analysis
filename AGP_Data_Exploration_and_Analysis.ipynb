{
 "cells": [
  {
   "cell_type": "code",
   "execution_count": 1,
   "metadata": {},
   "outputs": [],
   "source": [
    "import pandas as pd\n",
    "import matplotlib.pyplot as plt\n",
    "import numpy as np\n",
    "from scipy.stats import linregress\n",
    "#I added:\n",
    "import scipy.stats as stats\n",
    "import seaborn as sns\n",
    "#team also had:\n",
    "#import scipy.stats as sts\n",
    "#from scipy.stats import stats"
   ]
  },
  {
   "cell_type": "code",
   "execution_count": 2,
   "metadata": {},
   "outputs": [
    {
     "data": {
      "text/html": [
       "<div>\n",
       "<style scoped>\n",
       "    .dataframe tbody tr th:only-of-type {\n",
       "        vertical-align: middle;\n",
       "    }\n",
       "\n",
       "    .dataframe tbody tr th {\n",
       "        vertical-align: top;\n",
       "    }\n",
       "\n",
       "    .dataframe thead th {\n",
       "        text-align: right;\n",
       "    }\n",
       "</style>\n",
       "<table border=\"1\" class=\"dataframe\">\n",
       "  <thead>\n",
       "    <tr style=\"text-align: right;\">\n",
       "      <th></th>\n",
       "      <th>Product Name</th>\n",
       "      <th>Product ID</th>\n",
       "      <th>Listing Price</th>\n",
       "      <th>Sale Price</th>\n",
       "      <th>Discount</th>\n",
       "      <th>Brand</th>\n",
       "      <th>Description</th>\n",
       "      <th>Rating</th>\n",
       "      <th>Reviews</th>\n",
       "      <th>Last Visited</th>\n",
       "    </tr>\n",
       "  </thead>\n",
       "  <tbody>\n",
       "    <tr>\n",
       "      <th>0</th>\n",
       "      <td>Women's adidas Originals NMD_Racer Primeknit S...</td>\n",
       "      <td>AH2430</td>\n",
       "      <td>14999</td>\n",
       "      <td>7499</td>\n",
       "      <td>50</td>\n",
       "      <td>Adidas Adidas ORIGINALS</td>\n",
       "      <td>Channeling the streamlined look of an '80s rac...</td>\n",
       "      <td>4.8</td>\n",
       "      <td>41</td>\n",
       "      <td>2020-04-13T15:06:14</td>\n",
       "    </tr>\n",
       "    <tr>\n",
       "      <th>1</th>\n",
       "      <td>Women's adidas Originals Sleek Shoes</td>\n",
       "      <td>G27341</td>\n",
       "      <td>7599</td>\n",
       "      <td>3799</td>\n",
       "      <td>50</td>\n",
       "      <td>Adidas ORIGINALS</td>\n",
       "      <td>A modern take on adidas sport heritage, tailor...</td>\n",
       "      <td>3.3</td>\n",
       "      <td>24</td>\n",
       "      <td>2020-04-13T15:06:15</td>\n",
       "    </tr>\n",
       "    <tr>\n",
       "      <th>2</th>\n",
       "      <td>Women's adidas Swim Puka Slippers</td>\n",
       "      <td>CM0081</td>\n",
       "      <td>999</td>\n",
       "      <td>599</td>\n",
       "      <td>40</td>\n",
       "      <td>Adidas CORE / NEO</td>\n",
       "      <td>These adidas Puka slippers for women's come wi...</td>\n",
       "      <td>2.6</td>\n",
       "      <td>37</td>\n",
       "      <td>2020-04-13T15:06:15</td>\n",
       "    </tr>\n",
       "    <tr>\n",
       "      <th>3</th>\n",
       "      <td>Women's adidas Sport Inspired Questar Ride Shoes</td>\n",
       "      <td>B44832</td>\n",
       "      <td>6999</td>\n",
       "      <td>3499</td>\n",
       "      <td>50</td>\n",
       "      <td>Adidas CORE / NEO</td>\n",
       "      <td>Inspired by modern tech runners, these women's...</td>\n",
       "      <td>4.1</td>\n",
       "      <td>35</td>\n",
       "      <td>2020-04-13T15:06:15</td>\n",
       "    </tr>\n",
       "    <tr>\n",
       "      <th>4</th>\n",
       "      <td>Women's adidas Originals Taekwondo Shoes</td>\n",
       "      <td>D98205</td>\n",
       "      <td>7999</td>\n",
       "      <td>3999</td>\n",
       "      <td>50</td>\n",
       "      <td>Adidas ORIGINALS</td>\n",
       "      <td>This design is inspired by vintage Taekwondo s...</td>\n",
       "      <td>3.5</td>\n",
       "      <td>72</td>\n",
       "      <td>2020-04-13T15:06:15</td>\n",
       "    </tr>\n",
       "  </tbody>\n",
       "</table>\n",
       "</div>"
      ],
      "text/plain": [
       "                                        Product Name Product ID  \\\n",
       "0  Women's adidas Originals NMD_Racer Primeknit S...     AH2430   \n",
       "1               Women's adidas Originals Sleek Shoes     G27341   \n",
       "2                  Women's adidas Swim Puka Slippers     CM0081   \n",
       "3   Women's adidas Sport Inspired Questar Ride Shoes     B44832   \n",
       "4           Women's adidas Originals Taekwondo Shoes     D98205   \n",
       "\n",
       "   Listing Price  Sale Price  Discount                    Brand  \\\n",
       "0          14999        7499        50  Adidas Adidas ORIGINALS   \n",
       "1           7599        3799        50         Adidas ORIGINALS   \n",
       "2            999         599        40        Adidas CORE / NEO   \n",
       "3           6999        3499        50        Adidas CORE / NEO   \n",
       "4           7999        3999        50         Adidas ORIGINALS   \n",
       "\n",
       "                                         Description  Rating  Reviews  \\\n",
       "0  Channeling the streamlined look of an '80s rac...     4.8       41   \n",
       "1  A modern take on adidas sport heritage, tailor...     3.3       24   \n",
       "2  These adidas Puka slippers for women's come wi...     2.6       37   \n",
       "3  Inspired by modern tech runners, these women's...     4.1       35   \n",
       "4  This design is inspired by vintage Taekwondo s...     3.5       72   \n",
       "\n",
       "          Last Visited  \n",
       "0  2020-04-13T15:06:14  \n",
       "1  2020-04-13T15:06:15  \n",
       "2  2020-04-13T15:06:15  \n",
       "3  2020-04-13T15:06:15  \n",
       "4  2020-04-13T15:06:15  "
      ]
     },
     "execution_count": 2,
     "metadata": {},
     "output_type": "execute_result"
    }
   ],
   "source": [
    "# read in data file\n",
    "readcsv = pd.read_csv(\"Data.csv\")\n",
    "readcsv.head()"
   ]
  },
  {
   "cell_type": "code",
   "execution_count": 3,
   "metadata": {},
   "outputs": [],
   "source": [
    "sandbox = readcsv.copy()"
   ]
  },
  {
   "cell_type": "code",
   "execution_count": 4,
   "metadata": {},
   "outputs": [],
   "source": [
    "# filter out rows with no listing price\n",
    "sandbox.drop(sandbox[sandbox[\"Listing Price\"] == 0].index, inplace = True)"
   ]
  },
  {
   "cell_type": "code",
   "execution_count": 5,
   "metadata": {},
   "outputs": [
    {
     "data": {
      "text/plain": [
       "2752"
      ]
     },
     "execution_count": 5,
     "metadata": {},
     "output_type": "execute_result"
    }
   ],
   "source": [
    "# filter out rows with no reviews\n",
    "sandbox.drop(sandbox[sandbox[\"Reviews\"] == 0].index, inplace = True)\n",
    "len(sandbox)"
   ]
  },
  {
   "cell_type": "code",
   "execution_count": 6,
   "metadata": {},
   "outputs": [
    {
     "data": {
      "text/plain": [
       "2680"
      ]
     },
     "execution_count": 6,
     "metadata": {},
     "output_type": "execute_result"
    }
   ],
   "source": [
    "# filter out rows with no ratings\n",
    "sandbox.drop(sandbox[sandbox[\"Rating\"] == 0].index, inplace = True)\n",
    "len(sandbox)"
   ]
  },
  {
   "cell_type": "code",
   "execution_count": 7,
   "metadata": {},
   "outputs": [
    {
     "data": {
      "text/html": [
       "<div>\n",
       "<style scoped>\n",
       "    .dataframe tbody tr th:only-of-type {\n",
       "        vertical-align: middle;\n",
       "    }\n",
       "\n",
       "    .dataframe tbody tr th {\n",
       "        vertical-align: top;\n",
       "    }\n",
       "\n",
       "    .dataframe thead th {\n",
       "        text-align: right;\n",
       "    }\n",
       "</style>\n",
       "<table border=\"1\" class=\"dataframe\">\n",
       "  <thead>\n",
       "    <tr style=\"text-align: right;\">\n",
       "      <th></th>\n",
       "      <th>Product Name</th>\n",
       "      <th>Product ID</th>\n",
       "      <th>Listing Price</th>\n",
       "      <th>Sale Price</th>\n",
       "      <th>Discount</th>\n",
       "      <th>Brand</th>\n",
       "      <th>Description</th>\n",
       "      <th>Rating</th>\n",
       "      <th>Reviews</th>\n",
       "      <th>Last Visited</th>\n",
       "    </tr>\n",
       "  </thead>\n",
       "  <tbody>\n",
       "    <tr>\n",
       "      <th>0</th>\n",
       "      <td>Women's adidas Originals NMD_Racer Primeknit S...</td>\n",
       "      <td>AH2430</td>\n",
       "      <td>14999</td>\n",
       "      <td>7499</td>\n",
       "      <td>50</td>\n",
       "      <td>Adidas Adidas ORIGINALS</td>\n",
       "      <td>Channeling the streamlined look of an '80s rac...</td>\n",
       "      <td>4.8</td>\n",
       "      <td>41</td>\n",
       "      <td>2020-04-13T15:06:14</td>\n",
       "    </tr>\n",
       "    <tr>\n",
       "      <th>1</th>\n",
       "      <td>Women's adidas Originals Sleek Shoes</td>\n",
       "      <td>G27341</td>\n",
       "      <td>7599</td>\n",
       "      <td>3799</td>\n",
       "      <td>50</td>\n",
       "      <td>Adidas ORIGINALS</td>\n",
       "      <td>A modern take on adidas sport heritage, tailor...</td>\n",
       "      <td>3.3</td>\n",
       "      <td>24</td>\n",
       "      <td>2020-04-13T15:06:15</td>\n",
       "    </tr>\n",
       "    <tr>\n",
       "      <th>2</th>\n",
       "      <td>Women's adidas Swim Puka Slippers</td>\n",
       "      <td>CM0081</td>\n",
       "      <td>999</td>\n",
       "      <td>599</td>\n",
       "      <td>40</td>\n",
       "      <td>Adidas CORE / NEO</td>\n",
       "      <td>These adidas Puka slippers for women's come wi...</td>\n",
       "      <td>2.6</td>\n",
       "      <td>37</td>\n",
       "      <td>2020-04-13T15:06:15</td>\n",
       "    </tr>\n",
       "    <tr>\n",
       "      <th>3</th>\n",
       "      <td>Women's adidas Sport Inspired Questar Ride Shoes</td>\n",
       "      <td>B44832</td>\n",
       "      <td>6999</td>\n",
       "      <td>3499</td>\n",
       "      <td>50</td>\n",
       "      <td>Adidas CORE / NEO</td>\n",
       "      <td>Inspired by modern tech runners, these women's...</td>\n",
       "      <td>4.1</td>\n",
       "      <td>35</td>\n",
       "      <td>2020-04-13T15:06:15</td>\n",
       "    </tr>\n",
       "    <tr>\n",
       "      <th>4</th>\n",
       "      <td>Women's adidas Originals Taekwondo Shoes</td>\n",
       "      <td>D98205</td>\n",
       "      <td>7999</td>\n",
       "      <td>3999</td>\n",
       "      <td>50</td>\n",
       "      <td>Adidas ORIGINALS</td>\n",
       "      <td>This design is inspired by vintage Taekwondo s...</td>\n",
       "      <td>3.5</td>\n",
       "      <td>72</td>\n",
       "      <td>2020-04-13T15:06:15</td>\n",
       "    </tr>\n",
       "  </tbody>\n",
       "</table>\n",
       "</div>"
      ],
      "text/plain": [
       "                                        Product Name Product ID  \\\n",
       "0  Women's adidas Originals NMD_Racer Primeknit S...     AH2430   \n",
       "1               Women's adidas Originals Sleek Shoes     G27341   \n",
       "2                  Women's adidas Swim Puka Slippers     CM0081   \n",
       "3   Women's adidas Sport Inspired Questar Ride Shoes     B44832   \n",
       "4           Women's adidas Originals Taekwondo Shoes     D98205   \n",
       "\n",
       "   Listing Price  Sale Price  Discount                    Brand  \\\n",
       "0          14999        7499        50  Adidas Adidas ORIGINALS   \n",
       "1           7599        3799        50         Adidas ORIGINALS   \n",
       "2            999         599        40        Adidas CORE / NEO   \n",
       "3           6999        3499        50        Adidas CORE / NEO   \n",
       "4           7999        3999        50         Adidas ORIGINALS   \n",
       "\n",
       "                                         Description  Rating  Reviews  \\\n",
       "0  Channeling the streamlined look of an '80s rac...     4.8       41   \n",
       "1  A modern take on adidas sport heritage, tailor...     3.3       24   \n",
       "2  These adidas Puka slippers for women's come wi...     2.6       37   \n",
       "3  Inspired by modern tech runners, these women's...     4.1       35   \n",
       "4  This design is inspired by vintage Taekwondo s...     3.5       72   \n",
       "\n",
       "          Last Visited  \n",
       "0  2020-04-13T15:06:14  \n",
       "1  2020-04-13T15:06:15  \n",
       "2  2020-04-13T15:06:15  \n",
       "3  2020-04-13T15:06:15  \n",
       "4  2020-04-13T15:06:15  "
      ]
     },
     "execution_count": 7,
     "metadata": {},
     "output_type": "execute_result"
    }
   ],
   "source": [
    "sandbox.head()"
   ]
  },
  {
   "cell_type": "code",
   "execution_count": 8,
   "metadata": {},
   "outputs": [
    {
     "data": {
      "text/html": [
       "<div>\n",
       "<style scoped>\n",
       "    .dataframe tbody tr th:only-of-type {\n",
       "        vertical-align: middle;\n",
       "    }\n",
       "\n",
       "    .dataframe tbody tr th {\n",
       "        vertical-align: top;\n",
       "    }\n",
       "\n",
       "    .dataframe thead th {\n",
       "        text-align: right;\n",
       "    }\n",
       "</style>\n",
       "<table border=\"1\" class=\"dataframe\">\n",
       "  <thead>\n",
       "    <tr style=\"text-align: right;\">\n",
       "      <th></th>\n",
       "      <th>Product Name</th>\n",
       "      <th>Product ID</th>\n",
       "      <th>Listing Price</th>\n",
       "      <th>Sale Price</th>\n",
       "      <th>Discount</th>\n",
       "      <th>Brand</th>\n",
       "      <th>Description</th>\n",
       "      <th>Rating</th>\n",
       "      <th>Reviews</th>\n",
       "      <th>Last Visited</th>\n",
       "      <th>True_Brand</th>\n",
       "      <th>Gender</th>\n",
       "    </tr>\n",
       "  </thead>\n",
       "  <tbody>\n",
       "    <tr>\n",
       "      <th>0</th>\n",
       "      <td>Women's adidas Originals NMD_Racer Primeknit S...</td>\n",
       "      <td>AH2430</td>\n",
       "      <td>14999</td>\n",
       "      <td>7499</td>\n",
       "      <td>50</td>\n",
       "      <td>Adidas Adidas ORIGINALS</td>\n",
       "      <td>Channeling the streamlined look of an '80s rac...</td>\n",
       "      <td>4.8</td>\n",
       "      <td>41</td>\n",
       "      <td>2020-04-13T15:06:14</td>\n",
       "      <td></td>\n",
       "      <td></td>\n",
       "    </tr>\n",
       "    <tr>\n",
       "      <th>1</th>\n",
       "      <td>Women's adidas Originals Sleek Shoes</td>\n",
       "      <td>G27341</td>\n",
       "      <td>7599</td>\n",
       "      <td>3799</td>\n",
       "      <td>50</td>\n",
       "      <td>Adidas ORIGINALS</td>\n",
       "      <td>A modern take on adidas sport heritage, tailor...</td>\n",
       "      <td>3.3</td>\n",
       "      <td>24</td>\n",
       "      <td>2020-04-13T15:06:15</td>\n",
       "      <td></td>\n",
       "      <td></td>\n",
       "    </tr>\n",
       "    <tr>\n",
       "      <th>2</th>\n",
       "      <td>Women's adidas Swim Puka Slippers</td>\n",
       "      <td>CM0081</td>\n",
       "      <td>999</td>\n",
       "      <td>599</td>\n",
       "      <td>40</td>\n",
       "      <td>Adidas CORE / NEO</td>\n",
       "      <td>These adidas Puka slippers for women's come wi...</td>\n",
       "      <td>2.6</td>\n",
       "      <td>37</td>\n",
       "      <td>2020-04-13T15:06:15</td>\n",
       "      <td></td>\n",
       "      <td></td>\n",
       "    </tr>\n",
       "    <tr>\n",
       "      <th>3</th>\n",
       "      <td>Women's adidas Sport Inspired Questar Ride Shoes</td>\n",
       "      <td>B44832</td>\n",
       "      <td>6999</td>\n",
       "      <td>3499</td>\n",
       "      <td>50</td>\n",
       "      <td>Adidas CORE / NEO</td>\n",
       "      <td>Inspired by modern tech runners, these women's...</td>\n",
       "      <td>4.1</td>\n",
       "      <td>35</td>\n",
       "      <td>2020-04-13T15:06:15</td>\n",
       "      <td></td>\n",
       "      <td></td>\n",
       "    </tr>\n",
       "    <tr>\n",
       "      <th>4</th>\n",
       "      <td>Women's adidas Originals Taekwondo Shoes</td>\n",
       "      <td>D98205</td>\n",
       "      <td>7999</td>\n",
       "      <td>3999</td>\n",
       "      <td>50</td>\n",
       "      <td>Adidas ORIGINALS</td>\n",
       "      <td>This design is inspired by vintage Taekwondo s...</td>\n",
       "      <td>3.5</td>\n",
       "      <td>72</td>\n",
       "      <td>2020-04-13T15:06:15</td>\n",
       "      <td></td>\n",
       "      <td></td>\n",
       "    </tr>\n",
       "  </tbody>\n",
       "</table>\n",
       "</div>"
      ],
      "text/plain": [
       "                                        Product Name Product ID  \\\n",
       "0  Women's adidas Originals NMD_Racer Primeknit S...     AH2430   \n",
       "1               Women's adidas Originals Sleek Shoes     G27341   \n",
       "2                  Women's adidas Swim Puka Slippers     CM0081   \n",
       "3   Women's adidas Sport Inspired Questar Ride Shoes     B44832   \n",
       "4           Women's adidas Originals Taekwondo Shoes     D98205   \n",
       "\n",
       "   Listing Price  Sale Price  Discount                    Brand  \\\n",
       "0          14999        7499        50  Adidas Adidas ORIGINALS   \n",
       "1           7599        3799        50         Adidas ORIGINALS   \n",
       "2            999         599        40        Adidas CORE / NEO   \n",
       "3           6999        3499        50        Adidas CORE / NEO   \n",
       "4           7999        3999        50         Adidas ORIGINALS   \n",
       "\n",
       "                                         Description  Rating  Reviews  \\\n",
       "0  Channeling the streamlined look of an '80s rac...     4.8       41   \n",
       "1  A modern take on adidas sport heritage, tailor...     3.3       24   \n",
       "2  These adidas Puka slippers for women's come wi...     2.6       37   \n",
       "3  Inspired by modern tech runners, these women's...     4.1       35   \n",
       "4  This design is inspired by vintage Taekwondo s...     3.5       72   \n",
       "\n",
       "          Last Visited True_Brand Gender  \n",
       "0  2020-04-13T15:06:14                    \n",
       "1  2020-04-13T15:06:15                    \n",
       "2  2020-04-13T15:06:15                    \n",
       "3  2020-04-13T15:06:15                    \n",
       "4  2020-04-13T15:06:15                    "
      ]
     },
     "execution_count": 8,
     "metadata": {},
     "output_type": "execute_result"
    }
   ],
   "source": [
    "#add columns for Adidas/Nike distinction and gender market\n",
    "sandbox['True_Brand']= \"\"\n",
    "sandbox['Gender'] = \"\"\n",
    "sandbox.head()"
   ]
  },
  {
   "cell_type": "code",
   "execution_count": 9,
   "metadata": {},
   "outputs": [
    {
     "data": {
      "text/plain": [
       "array(['Adidas Adidas ORIGINALS', 'Adidas ORIGINALS', 'Adidas CORE / NEO',\n",
       "       'Adidas SPORT PERFORMANCE', 'Nike'], dtype=object)"
      ]
     },
     "execution_count": 9,
     "metadata": {},
     "output_type": "execute_result"
    }
   ],
   "source": [
    "#finding array of unique brands (justifying our Nike or Adidas logic)\n",
    "sandbox[\"Brand\"].unique()"
   ]
  },
  {
   "cell_type": "code",
   "execution_count": 10,
   "metadata": {},
   "outputs": [
    {
     "data": {
      "text/html": [
       "<div>\n",
       "<style scoped>\n",
       "    .dataframe tbody tr th:only-of-type {\n",
       "        vertical-align: middle;\n",
       "    }\n",
       "\n",
       "    .dataframe tbody tr th {\n",
       "        vertical-align: top;\n",
       "    }\n",
       "\n",
       "    .dataframe thead th {\n",
       "        text-align: right;\n",
       "    }\n",
       "</style>\n",
       "<table border=\"1\" class=\"dataframe\">\n",
       "  <thead>\n",
       "    <tr style=\"text-align: right;\">\n",
       "      <th></th>\n",
       "      <th>Product Name</th>\n",
       "      <th>Product ID</th>\n",
       "      <th>Listing Price</th>\n",
       "      <th>Sale Price</th>\n",
       "      <th>Discount</th>\n",
       "      <th>Brand</th>\n",
       "      <th>Description</th>\n",
       "      <th>Rating</th>\n",
       "      <th>Reviews</th>\n",
       "      <th>Last Visited</th>\n",
       "      <th>True_Brand</th>\n",
       "      <th>Gender</th>\n",
       "    </tr>\n",
       "  </thead>\n",
       "  <tbody>\n",
       "    <tr>\n",
       "      <th>0</th>\n",
       "      <td>Women's adidas Originals NMD_Racer Primeknit S...</td>\n",
       "      <td>AH2430</td>\n",
       "      <td>14999</td>\n",
       "      <td>7499</td>\n",
       "      <td>50</td>\n",
       "      <td>Adidas Adidas ORIGINALS</td>\n",
       "      <td>Channeling the streamlined look of an '80s rac...</td>\n",
       "      <td>4.8</td>\n",
       "      <td>41</td>\n",
       "      <td>2020-04-13T15:06:14</td>\n",
       "      <td>Adidas</td>\n",
       "      <td></td>\n",
       "    </tr>\n",
       "    <tr>\n",
       "      <th>1</th>\n",
       "      <td>Women's adidas Originals Sleek Shoes</td>\n",
       "      <td>G27341</td>\n",
       "      <td>7599</td>\n",
       "      <td>3799</td>\n",
       "      <td>50</td>\n",
       "      <td>Adidas ORIGINALS</td>\n",
       "      <td>A modern take on adidas sport heritage, tailor...</td>\n",
       "      <td>3.3</td>\n",
       "      <td>24</td>\n",
       "      <td>2020-04-13T15:06:15</td>\n",
       "      <td>Adidas</td>\n",
       "      <td></td>\n",
       "    </tr>\n",
       "    <tr>\n",
       "      <th>2</th>\n",
       "      <td>Women's adidas Swim Puka Slippers</td>\n",
       "      <td>CM0081</td>\n",
       "      <td>999</td>\n",
       "      <td>599</td>\n",
       "      <td>40</td>\n",
       "      <td>Adidas CORE / NEO</td>\n",
       "      <td>These adidas Puka slippers for women's come wi...</td>\n",
       "      <td>2.6</td>\n",
       "      <td>37</td>\n",
       "      <td>2020-04-13T15:06:15</td>\n",
       "      <td>Adidas</td>\n",
       "      <td></td>\n",
       "    </tr>\n",
       "    <tr>\n",
       "      <th>3</th>\n",
       "      <td>Women's adidas Sport Inspired Questar Ride Shoes</td>\n",
       "      <td>B44832</td>\n",
       "      <td>6999</td>\n",
       "      <td>3499</td>\n",
       "      <td>50</td>\n",
       "      <td>Adidas CORE / NEO</td>\n",
       "      <td>Inspired by modern tech runners, these women's...</td>\n",
       "      <td>4.1</td>\n",
       "      <td>35</td>\n",
       "      <td>2020-04-13T15:06:15</td>\n",
       "      <td>Adidas</td>\n",
       "      <td></td>\n",
       "    </tr>\n",
       "    <tr>\n",
       "      <th>4</th>\n",
       "      <td>Women's adidas Originals Taekwondo Shoes</td>\n",
       "      <td>D98205</td>\n",
       "      <td>7999</td>\n",
       "      <td>3999</td>\n",
       "      <td>50</td>\n",
       "      <td>Adidas ORIGINALS</td>\n",
       "      <td>This design is inspired by vintage Taekwondo s...</td>\n",
       "      <td>3.5</td>\n",
       "      <td>72</td>\n",
       "      <td>2020-04-13T15:06:15</td>\n",
       "      <td>Adidas</td>\n",
       "      <td></td>\n",
       "    </tr>\n",
       "    <tr>\n",
       "      <th>...</th>\n",
       "      <td>...</td>\n",
       "      <td>...</td>\n",
       "      <td>...</td>\n",
       "      <td>...</td>\n",
       "      <td>...</td>\n",
       "      <td>...</td>\n",
       "      <td>...</td>\n",
       "      <td>...</td>\n",
       "      <td>...</td>\n",
       "      <td>...</td>\n",
       "      <td>...</td>\n",
       "      <td>...</td>\n",
       "    </tr>\n",
       "    <tr>\n",
       "      <th>3248</th>\n",
       "      <td>Nike Zoom Pegasus Turbo XX</td>\n",
       "      <td>AR4347-600</td>\n",
       "      <td>16995</td>\n",
       "      <td>13597</td>\n",
       "      <td>0</td>\n",
       "      <td>Nike</td>\n",
       "      <td>Bridging performance and style, the Nike Zoom ...</td>\n",
       "      <td>1.0</td>\n",
       "      <td>1</td>\n",
       "      <td>2020-04-13T15:38:54</td>\n",
       "      <td>Nike</td>\n",
       "      <td></td>\n",
       "    </tr>\n",
       "    <tr>\n",
       "      <th>3255</th>\n",
       "      <td>Nike Zoom Pegasus Turbo 2 Special Edition</td>\n",
       "      <td>BV7757-500</td>\n",
       "      <td>15995</td>\n",
       "      <td>12797</td>\n",
       "      <td>0</td>\n",
       "      <td>Nike</td>\n",
       "      <td>The Nike Zoom Pegasus Turbo 2 is updated with ...</td>\n",
       "      <td>5.0</td>\n",
       "      <td>1</td>\n",
       "      <td>2020-04-13T15:39:05</td>\n",
       "      <td>Nike</td>\n",
       "      <td></td>\n",
       "    </tr>\n",
       "    <tr>\n",
       "      <th>3261</th>\n",
       "      <td>Kyrie 6 'Enlightenment'</td>\n",
       "      <td>BQ4630-500</td>\n",
       "      <td>10995</td>\n",
       "      <td>8797</td>\n",
       "      <td>0</td>\n",
       "      <td>Nike</td>\n",
       "      <td>In spiritual circles, the colour purple repres...</td>\n",
       "      <td>4.4</td>\n",
       "      <td>10</td>\n",
       "      <td>2020-04-13T15:40:56</td>\n",
       "      <td>Nike</td>\n",
       "      <td></td>\n",
       "    </tr>\n",
       "    <tr>\n",
       "      <th>3263</th>\n",
       "      <td>Air Jordan 8 Retro</td>\n",
       "      <td>CI1236-100</td>\n",
       "      <td>15995</td>\n",
       "      <td>12797</td>\n",
       "      <td>0</td>\n",
       "      <td>Nike</td>\n",
       "      <td>The Air Jordan 8 Retro recaptures the memorabl...</td>\n",
       "      <td>5.0</td>\n",
       "      <td>1</td>\n",
       "      <td>2020-04-13T15:41:01</td>\n",
       "      <td>Nike</td>\n",
       "      <td></td>\n",
       "    </tr>\n",
       "    <tr>\n",
       "      <th>3265</th>\n",
       "      <td>Nike Mercurial Superfly 7 Academy TF</td>\n",
       "      <td>AT7978-414</td>\n",
       "      <td>8495</td>\n",
       "      <td>5947</td>\n",
       "      <td>0</td>\n",
       "      <td>Nike</td>\n",
       "      <td>The soft upper of the Nike Mercurial Superfly ...</td>\n",
       "      <td>5.0</td>\n",
       "      <td>1</td>\n",
       "      <td>2020-04-13T15:41:07</td>\n",
       "      <td>Nike</td>\n",
       "      <td></td>\n",
       "    </tr>\n",
       "  </tbody>\n",
       "</table>\n",
       "<p>2680 rows × 12 columns</p>\n",
       "</div>"
      ],
      "text/plain": [
       "                                           Product Name  Product ID  \\\n",
       "0     Women's adidas Originals NMD_Racer Primeknit S...      AH2430   \n",
       "1                  Women's adidas Originals Sleek Shoes      G27341   \n",
       "2                     Women's adidas Swim Puka Slippers      CM0081   \n",
       "3      Women's adidas Sport Inspired Questar Ride Shoes      B44832   \n",
       "4              Women's adidas Originals Taekwondo Shoes      D98205   \n",
       "...                                                 ...         ...   \n",
       "3248                         Nike Zoom Pegasus Turbo XX  AR4347-600   \n",
       "3255          Nike Zoom Pegasus Turbo 2 Special Edition  BV7757-500   \n",
       "3261                            Kyrie 6 'Enlightenment'  BQ4630-500   \n",
       "3263                                 Air Jordan 8 Retro  CI1236-100   \n",
       "3265               Nike Mercurial Superfly 7 Academy TF  AT7978-414   \n",
       "\n",
       "      Listing Price  Sale Price  Discount                    Brand  \\\n",
       "0             14999        7499        50  Adidas Adidas ORIGINALS   \n",
       "1              7599        3799        50         Adidas ORIGINALS   \n",
       "2               999         599        40        Adidas CORE / NEO   \n",
       "3              6999        3499        50        Adidas CORE / NEO   \n",
       "4              7999        3999        50         Adidas ORIGINALS   \n",
       "...             ...         ...       ...                      ...   \n",
       "3248          16995       13597         0                     Nike   \n",
       "3255          15995       12797         0                     Nike   \n",
       "3261          10995        8797         0                     Nike   \n",
       "3263          15995       12797         0                     Nike   \n",
       "3265           8495        5947         0                     Nike   \n",
       "\n",
       "                                            Description  Rating  Reviews  \\\n",
       "0     Channeling the streamlined look of an '80s rac...     4.8       41   \n",
       "1     A modern take on adidas sport heritage, tailor...     3.3       24   \n",
       "2     These adidas Puka slippers for women's come wi...     2.6       37   \n",
       "3     Inspired by modern tech runners, these women's...     4.1       35   \n",
       "4     This design is inspired by vintage Taekwondo s...     3.5       72   \n",
       "...                                                 ...     ...      ...   \n",
       "3248  Bridging performance and style, the Nike Zoom ...     1.0        1   \n",
       "3255  The Nike Zoom Pegasus Turbo 2 is updated with ...     5.0        1   \n",
       "3261  In spiritual circles, the colour purple repres...     4.4       10   \n",
       "3263  The Air Jordan 8 Retro recaptures the memorabl...     5.0        1   \n",
       "3265  The soft upper of the Nike Mercurial Superfly ...     5.0        1   \n",
       "\n",
       "             Last Visited True_Brand Gender  \n",
       "0     2020-04-13T15:06:14     Adidas         \n",
       "1     2020-04-13T15:06:15     Adidas         \n",
       "2     2020-04-13T15:06:15     Adidas         \n",
       "3     2020-04-13T15:06:15     Adidas         \n",
       "4     2020-04-13T15:06:15     Adidas         \n",
       "...                   ...        ...    ...  \n",
       "3248  2020-04-13T15:38:54       Nike         \n",
       "3255  2020-04-13T15:39:05       Nike         \n",
       "3261  2020-04-13T15:40:56       Nike         \n",
       "3263  2020-04-13T15:41:01       Nike         \n",
       "3265  2020-04-13T15:41:07       Nike         \n",
       "\n",
       "[2680 rows x 12 columns]"
      ]
     },
     "execution_count": 10,
     "metadata": {},
     "output_type": "execute_result"
    }
   ],
   "source": [
    "#loop through rows to create binary Nike/ Adidas column\n",
    "# for index, row in sandbox.iterrows():\n",
    "#     try:\n",
    "        \n",
    "        \n",
    "for index, row in sandbox.iterrows():\n",
    "    Brand_Name = row[\"Brand\"]\n",
    "    \n",
    "    if Brand_Name == 'Nike':\n",
    "        sandbox.loc[[index], \"True_Brand\"]= \"Nike\"\n",
    "    else:\n",
    "        sandbox.loc[[index], \"True_Brand\"]= \"Adidas\"\n",
    "sandbox"
   ]
  },
  {
   "cell_type": "code",
   "execution_count": 11,
   "metadata": {},
   "outputs": [
    {
     "data": {
      "text/plain": [
       "array(['Women', 'Men', 'Unisex', 'Unknown'], dtype=object)"
      ]
     },
     "execution_count": 11,
     "metadata": {},
     "output_type": "execute_result"
    }
   ],
   "source": [
    "#Do the same thing for gender\n",
    "# sandbox.loc[[index], \"True_Brand\"]= \"Nike\"\n",
    "\n",
    "for index, row in sandbox.iterrows():\n",
    "    #sandbox['Product_Name'] = row[\"Product_Name\"]\n",
    "    if row[\"Product Name\"].lower().find(\"women\")!= -1:\n",
    "        sandbox.loc[index, \"Gender\"]= \"Women\"\n",
    "    elif row[\"Product Name\"].lower().find(\"men\")!= -1:\n",
    "        sandbox.loc[index, \"Gender\"]= \"Men\"\n",
    "    elif row[\"Product Name\"].lower().find(\"unisex\")!= -1:\n",
    "        sandbox.loc[index, \"Gender\"]= \"Unisex\"      \n",
    "\n",
    "    elif row[\"Description\"].lower().find(\"women\")!= -1:\n",
    "        sandbox.loc[index, \"Gender\"]= \"Women\"\n",
    "    elif row[\"Description\"].lower().find(\"men\")!= -1:\n",
    "        sandbox.loc[index, \"Gender\"]= \"Men\"\n",
    "    elif row[\"Description\"].lower().find(\"unisex\")!= -1:\n",
    "        sandbox.loc[index, \"Gender\"]= \"Unisex\"      \n",
    "    else:\n",
    "        sandbox.loc[index, \"Gender\"]= \"Unknown\"\n",
    "sandbox[\"Gender\"].unique()"
   ]
  },
  {
   "cell_type": "code",
   "execution_count": 12,
   "metadata": {},
   "outputs": [
    {
     "data": {
      "text/plain": [
       "3.4637227722772277"
      ]
     },
     "execution_count": 12,
     "metadata": {},
     "output_type": "execute_result"
    }
   ],
   "source": [
    "# Avergae Adidas shoe rating\n",
    "adi_rtng_df = sandbox.loc[sandbox[\"True_Brand\"] == \"Adidas\"]\n",
    "adi_rtng = adi_rtng_df[\"Rating\"].mean()\n",
    "adi_rtng"
   ]
  },
  {
   "cell_type": "code",
   "execution_count": 13,
   "metadata": {},
   "outputs": [
    {
     "data": {
      "text/plain": [
       "4.12774193548387"
      ]
     },
     "execution_count": 13,
     "metadata": {},
     "output_type": "execute_result"
    }
   ],
   "source": [
    "# Average Nike shoe rating\n",
    "nike_rtng_df = sandbox.loc[sandbox[\"True_Brand\"] == \"Nike\"]\n",
    "nike_rtng = nike_rtng_df[\"Rating\"].mean()\n",
    "nike_rtng"
   ]
  },
  {
   "cell_type": "code",
   "execution_count": 14,
   "metadata": {},
   "outputs": [
    {
     "data": {
      "text/plain": [
       "3.459486873508353"
      ]
     },
     "execution_count": 14,
     "metadata": {},
     "output_type": "execute_result"
    }
   ],
   "source": [
    "# Adidas men's average shoe rating \n",
    "adi_rtng_man_df = sandbox.loc[sandbox[\"Gender\"] == \"Men\"]\n",
    "adi_rtng_man_df = adi_rtng_man_df.loc[sandbox[\"True_Brand\"] == \"Adidas\"]\n",
    "adi_rtng_man = adi_rtng_man_df[\"Rating\"].mean()\n",
    "adi_rtng_man"
   ]
  },
  {
   "cell_type": "code",
   "execution_count": 15,
   "metadata": {},
   "outputs": [
    {
     "data": {
      "text/plain": [
       "3.4745672436751"
      ]
     },
     "execution_count": 15,
     "metadata": {},
     "output_type": "execute_result"
    }
   ],
   "source": [
    "# Adidas women's average shoe rating \n",
    "adi_rtg_women_df = sandbox.loc[sandbox[\"Gender\"] == \"Women\"]\n",
    "adi_rtg_women_df = adi_rtg_women_df.loc[sandbox[\"True_Brand\"] == \"Adidas\"]\n",
    "adi_rtg_women = adi_rtg_women_df[\"Rating\"].mean()\n",
    "adi_rtg_women"
   ]
  },
  {
   "cell_type": "code",
   "execution_count": 16,
   "metadata": {},
   "outputs": [
    {
     "data": {
      "text/plain": [
       "3.4731958762886603"
      ]
     },
     "execution_count": 16,
     "metadata": {},
     "output_type": "execute_result"
    }
   ],
   "source": [
    "# Adidas unisex average shoe rating \n",
    "adi_rtg_uni_df = sandbox.loc[sandbox[\"Gender\"] == \"Unisex\"]\n",
    "adi_rtg_uni_df = adi_rtg_uni_df.loc[sandbox[\"True_Brand\"] == \"Adidas\"]\n",
    "adi_rtg_uni = adi_rtg_uni_df[\"Rating\"].mean()\n",
    "adi_rtg_uni"
   ]
  },
  {
   "cell_type": "code",
   "execution_count": 17,
   "metadata": {},
   "outputs": [
    {
     "data": {
      "text/plain": [
       "1.5"
      ]
     },
     "execution_count": 17,
     "metadata": {},
     "output_type": "execute_result"
    }
   ],
   "source": [
    "# Adidas unknown gender average shoe rating (adidas has one shoe in this category)\n",
    "adi_rtg_unkn_df = sandbox.loc[sandbox[\"Gender\"] == \"Unknown\"]\n",
    "adi_rtg_unkn_df = adi_rtg_unkn_df.loc[sandbox[\"True_Brand\"] == \"Adidas\"]\n",
    "adi_rtg_unkn = adi_rtg_unkn_df[\"Rating\"].mean()\n",
    "adi_rtg_unkn"
   ]
  },
  {
   "cell_type": "code",
   "execution_count": 18,
   "metadata": {},
   "outputs": [
    {
     "data": {
      "text/plain": [
       "4.141935483870968"
      ]
     },
     "execution_count": 18,
     "metadata": {},
     "output_type": "execute_result"
    }
   ],
   "source": [
    "# Nike men's average shoe rating \n",
    "nike_rtng_man_df = sandbox.loc[sandbox[\"Gender\"] == \"Men\"]\n",
    "nike_rtng_man_df = nike_rtng_man_df.loc[sandbox[\"True_Brand\"] == \"Nike\"]\n",
    "nike_rtng_man = nike_rtng_man_df[\"Rating\"].mean()\n",
    "nike_rtng_man"
   ]
  },
  {
   "cell_type": "code",
   "execution_count": 19,
   "metadata": {},
   "outputs": [
    {
     "data": {
      "text/plain": [
       "3.766666666666667"
      ]
     },
     "execution_count": 19,
     "metadata": {},
     "output_type": "execute_result"
    }
   ],
   "source": [
    "# Nike women's average shoe rating \n",
    "nike_rtng_woman_df = sandbox.loc[sandbox[\"Gender\"] == \"Women\"]\n",
    "nike_rtng_woman_df = nike_rtng_woman_df.loc[sandbox[\"True_Brand\"] == \"Nike\"]\n",
    "nike_rtng_woman = nike_rtng_woman_df[\"Rating\"].mean()\n",
    "nike_rtng_woman"
   ]
  },
  {
   "cell_type": "code",
   "execution_count": 20,
   "metadata": {},
   "outputs": [
    {
     "data": {
      "text/plain": [
       "nan"
      ]
     },
     "execution_count": 20,
     "metadata": {},
     "output_type": "execute_result"
    }
   ],
   "source": [
    "# Nike unisex average shoe rating \n",
    "nike_rtg_uni_df = sandbox.loc[sandbox[\"Gender\"] == \"Unisex\"]\n",
    "nike_rtg_uni_df = nike_rtg_uni_df.loc[sandbox[\"True_Brand\"] == \"Nike\"]\n",
    "# nike_rtg_uni_df\n",
    "nike_rtg_uni = nike_rtg_uni_df[\"Rating\"].mean()\n",
    "nike_rtg_uni"
   ]
  },
  {
   "cell_type": "code",
   "execution_count": 21,
   "metadata": {},
   "outputs": [
    {
     "data": {
      "text/plain": [
       "4.1625000000000005"
      ]
     },
     "execution_count": 21,
     "metadata": {},
     "output_type": "execute_result"
    }
   ],
   "source": [
    "# Nike unknown gender average shoe rating (adidas has one shoe in this category)\n",
    "nike_rtg_unkn_df = sandbox.loc[sandbox[\"Gender\"] == \"Unknown\"]\n",
    "nike_rtg_unkn_df = nike_rtg_unkn_df.loc[sandbox[\"True_Brand\"] == \"Nike\"]\n",
    "nike_rtg_unkn = nike_rtg_unkn_df[\"Rating\"].mean()\n",
    "nike_rtg_unkn"
   ]
  },
  {
   "cell_type": "code",
   "execution_count": 22,
   "metadata": {},
   "outputs": [],
   "source": [
    "# use REGEX to find Women's product \n",
    "# sandbox.loc[sandbox[\"Product Name\"].str.contains(\"women\", case=False),:]"
   ]
  },
  {
   "cell_type": "code",
   "execution_count": 23,
   "metadata": {},
   "outputs": [],
   "source": [
    "# Create Average shoe rating for each brand by gender; total, men, women, unisex, unknown\n",
    "# ADIDAS: Total, Men, Women, Uni, Unknown------------------------------------------------\n",
    "adi_rtng_df = sandbox.loc[sandbox[\"True_Brand\"] == \"Adidas\"]\n",
    "adi_rtng = adi_rtng_df[\"Rating\"].mean()\n",
    "adi_rtng_man_df = sandbox.loc[sandbox[\"Gender\"] == \"Men\"]\n",
    "adi_rtng_man_df = adi_rtng_man_df.loc[sandbox[\"True_Brand\"] == \"Adidas\"]\n",
    "adi_rtng_man = adi_rtng_man_df[\"Rating\"].mean()\n",
    "adi_rtg_women_df = sandbox.loc[sandbox[\"Gender\"] == \"Women\"]\n",
    "adi_rtg_women_df = adi_rtg_women_df.loc[sandbox[\"True_Brand\"] == \"Adidas\"]\n",
    "adi_rtg_women = adi_rtg_women_df[\"Rating\"].mean()\n",
    "adi_rtg_uni_df = sandbox.loc[sandbox[\"Gender\"] == \"Unisex\"]\n",
    "adi_rtg_uni_df = adi_rtg_uni_df.loc[sandbox[\"True_Brand\"] == \"Adidas\"]\n",
    "adi_rtg_uni = adi_rtg_uni_df[\"Rating\"].mean()\n",
    "adi_rtg_unkn_df = sandbox.loc[sandbox[\"Gender\"] == \"Unknown\"]\n",
    "adi_rtg_unkn_df = adi_rtg_unkn_df.loc[sandbox[\"True_Brand\"] == \"Adidas\"]\n",
    "adi_rtg_unkn = adi_rtg_unkn_df[\"Rating\"].mean()\n",
    "# NIKE: Total, men, women, Uni, Unknown---------------------------------------------------\n",
    "nike_rtng_df = sandbox.loc[sandbox[\"True_Brand\"] == \"Nike\"]\n",
    "nike_rtng = nike_rtng_df[\"Rating\"].mean()\n",
    "nike_rtng_man_df = sandbox.loc[sandbox[\"Gender\"] == \"Men\"]\n",
    "nike_rtng_man_df = nike_rtng_man_df.loc[sandbox[\"True_Brand\"] == \"Nike\"]\n",
    "nike_rtng_man = nike_rtng_man_df[\"Rating\"].mean()\n",
    "nike_rtng_woman_df = sandbox.loc[sandbox[\"Gender\"] == \"Women\"]\n",
    "nike_rtng_woman_df = nike_rtng_woman_df.loc[sandbox[\"True_Brand\"] == \"Nike\"]\n",
    "nike_rtng_woman = nike_rtng_woman_df[\"Rating\"].mean()\n",
    "nike_rtg_uni_df = sandbox.loc[sandbox[\"Gender\"] == \"Unisex\"]\n",
    "nike_rtg_uni_df = nike_rtg_uni_df.loc[sandbox[\"True_Brand\"] == \"Nike\"]\n",
    "nike_rtg_uni = nike_rtg_uni_df[\"Rating\"].mean()\n",
    "nike_rtg_unkn_df = sandbox.loc[sandbox[\"Gender\"] == \"Unknown\"]\n",
    "nike_rtg_unkn_df = nike_rtg_unkn_df.loc[sandbox[\"True_Brand\"] == \"Nike\"]\n",
    "nike_rtg_unkn = nike_rtg_unkn_df[\"Rating\"].mean()"
   ]
  },
  {
   "cell_type": "code",
   "execution_count": 24,
   "metadata": {},
   "outputs": [
    {
     "data": {
      "text/plain": [
       "Text(0.5, 1.0, 'Adidas vs. Nike: avg product rating by gender')"
      ]
     },
     "execution_count": 24,
     "metadata": {},
     "output_type": "execute_result"
    },
    {
     "data": {
      "image/png": "[encoded data removed]",
      "text/plain": [
       "<Figure size 432x288 with 1 Axes>"
      ]
     },
     "metadata": {
      "needs_background": "light"
     },
     "output_type": "display_data"
    }
   ],
   "source": [
    "# Plot Nike vs. Adidas by gender\n",
    "ratingsplotdata = pd.DataFrame(\n",
    "    {\"Adidas\": [adi_rtng, adi_rtng_man, adi_rtg_women, adi_rtg_uni, adi_rtg_unkn],\n",
    "    \"Nike\": [nike_rtng, nike_rtng_man, nike_rtng_woman, nike_rtg_uni, nike_rtg_unkn]}, \n",
    "    index=[\"Total\", \"Men\", \"Women\", \"Unisex\", \"Unkown\"])\n",
    "# Plot a bar chart\n",
    "ratingsplotdata.plot(kind=\"bar\")\n",
    "plt.title(\"Adidas vs. Nike: avg product rating by gender\")"
   ]
  },
  {
   "cell_type": "code",
   "execution_count": 25,
   "metadata": {},
   "outputs": [
    {
     "data": {
      "text/html": [
       "<div>\n",
       "<style scoped>\n",
       "    .dataframe tbody tr th:only-of-type {\n",
       "        vertical-align: middle;\n",
       "    }\n",
       "\n",
       "    .dataframe tbody tr th {\n",
       "        vertical-align: top;\n",
       "    }\n",
       "\n",
       "    .dataframe thead th {\n",
       "        text-align: right;\n",
       "    }\n",
       "</style>\n",
       "<table border=\"1\" class=\"dataframe\">\n",
       "  <thead>\n",
       "    <tr style=\"text-align: right;\">\n",
       "      <th></th>\n",
       "      <th>Product Name</th>\n",
       "      <th>Product ID</th>\n",
       "      <th>Listing Price</th>\n",
       "      <th>Sale Price</th>\n",
       "      <th>Discount</th>\n",
       "      <th>Brand</th>\n",
       "      <th>Description</th>\n",
       "      <th>Rating</th>\n",
       "      <th>Reviews</th>\n",
       "      <th>Last Visited</th>\n",
       "      <th>True_Brand</th>\n",
       "      <th>Gender</th>\n",
       "      <th>Listing Price $</th>\n",
       "      <th>Sale Price $</th>\n",
       "      <th>Discount $</th>\n",
       "    </tr>\n",
       "  </thead>\n",
       "  <tbody>\n",
       "    <tr>\n",
       "      <th>0</th>\n",
       "      <td>Women's adidas Originals NMD_Racer Primeknit S...</td>\n",
       "      <td>AH2430</td>\n",
       "      <td>14999</td>\n",
       "      <td>7499</td>\n",
       "      <td>50</td>\n",
       "      <td>Adidas Adidas ORIGINALS</td>\n",
       "      <td>Channeling the streamlined look of an '80s rac...</td>\n",
       "      <td>4.8</td>\n",
       "      <td>41</td>\n",
       "      <td>2020-04-13T15:06:14</td>\n",
       "      <td>Adidas</td>\n",
       "      <td>Women</td>\n",
       "      <td></td>\n",
       "      <td></td>\n",
       "      <td></td>\n",
       "    </tr>\n",
       "    <tr>\n",
       "      <th>1</th>\n",
       "      <td>Women's adidas Originals Sleek Shoes</td>\n",
       "      <td>G27341</td>\n",
       "      <td>7599</td>\n",
       "      <td>3799</td>\n",
       "      <td>50</td>\n",
       "      <td>Adidas ORIGINALS</td>\n",
       "      <td>A modern take on adidas sport heritage, tailor...</td>\n",
       "      <td>3.3</td>\n",
       "      <td>24</td>\n",
       "      <td>2020-04-13T15:06:15</td>\n",
       "      <td>Adidas</td>\n",
       "      <td>Women</td>\n",
       "      <td></td>\n",
       "      <td></td>\n",
       "      <td></td>\n",
       "    </tr>\n",
       "    <tr>\n",
       "      <th>2</th>\n",
       "      <td>Women's adidas Swim Puka Slippers</td>\n",
       "      <td>CM0081</td>\n",
       "      <td>999</td>\n",
       "      <td>599</td>\n",
       "      <td>40</td>\n",
       "      <td>Adidas CORE / NEO</td>\n",
       "      <td>These adidas Puka slippers for women's come wi...</td>\n",
       "      <td>2.6</td>\n",
       "      <td>37</td>\n",
       "      <td>2020-04-13T15:06:15</td>\n",
       "      <td>Adidas</td>\n",
       "      <td>Women</td>\n",
       "      <td></td>\n",
       "      <td></td>\n",
       "      <td></td>\n",
       "    </tr>\n",
       "    <tr>\n",
       "      <th>3</th>\n",
       "      <td>Women's adidas Sport Inspired Questar Ride Shoes</td>\n",
       "      <td>B44832</td>\n",
       "      <td>6999</td>\n",
       "      <td>3499</td>\n",
       "      <td>50</td>\n",
       "      <td>Adidas CORE / NEO</td>\n",
       "      <td>Inspired by modern tech runners, these women's...</td>\n",
       "      <td>4.1</td>\n",
       "      <td>35</td>\n",
       "      <td>2020-04-13T15:06:15</td>\n",
       "      <td>Adidas</td>\n",
       "      <td>Women</td>\n",
       "      <td></td>\n",
       "      <td></td>\n",
       "      <td></td>\n",
       "    </tr>\n",
       "    <tr>\n",
       "      <th>4</th>\n",
       "      <td>Women's adidas Originals Taekwondo Shoes</td>\n",
       "      <td>D98205</td>\n",
       "      <td>7999</td>\n",
       "      <td>3999</td>\n",
       "      <td>50</td>\n",
       "      <td>Adidas ORIGINALS</td>\n",
       "      <td>This design is inspired by vintage Taekwondo s...</td>\n",
       "      <td>3.5</td>\n",
       "      <td>72</td>\n",
       "      <td>2020-04-13T15:06:15</td>\n",
       "      <td>Adidas</td>\n",
       "      <td>Women</td>\n",
       "      <td></td>\n",
       "      <td></td>\n",
       "      <td></td>\n",
       "    </tr>\n",
       "  </tbody>\n",
       "</table>\n",
       "</div>"
      ],
      "text/plain": [
       "                                        Product Name Product ID  \\\n",
       "0  Women's adidas Originals NMD_Racer Primeknit S...     AH2430   \n",
       "1               Women's adidas Originals Sleek Shoes     G27341   \n",
       "2                  Women's adidas Swim Puka Slippers     CM0081   \n",
       "3   Women's adidas Sport Inspired Questar Ride Shoes     B44832   \n",
       "4           Women's adidas Originals Taekwondo Shoes     D98205   \n",
       "\n",
       "   Listing Price  Sale Price  Discount                    Brand  \\\n",
       "0          14999        7499        50  Adidas Adidas ORIGINALS   \n",
       "1           7599        3799        50         Adidas ORIGINALS   \n",
       "2            999         599        40        Adidas CORE / NEO   \n",
       "3           6999        3499        50        Adidas CORE / NEO   \n",
       "4           7999        3999        50         Adidas ORIGINALS   \n",
       "\n",
       "                                         Description  Rating  Reviews  \\\n",
       "0  Channeling the streamlined look of an '80s rac...     4.8       41   \n",
       "1  A modern take on adidas sport heritage, tailor...     3.3       24   \n",
       "2  These adidas Puka slippers for women's come wi...     2.6       37   \n",
       "3  Inspired by modern tech runners, these women's...     4.1       35   \n",
       "4  This design is inspired by vintage Taekwondo s...     3.5       72   \n",
       "\n",
       "          Last Visited True_Brand Gender Listing Price $ Sale Price $  \\\n",
       "0  2020-04-13T15:06:14     Adidas  Women                                \n",
       "1  2020-04-13T15:06:15     Adidas  Women                                \n",
       "2  2020-04-13T15:06:15     Adidas  Women                                \n",
       "3  2020-04-13T15:06:15     Adidas  Women                                \n",
       "4  2020-04-13T15:06:15     Adidas  Women                                \n",
       "\n",
       "  Discount $  \n",
       "0             \n",
       "1             \n",
       "2             \n",
       "3             \n",
       "4             "
      ]
     },
     "execution_count": 25,
     "metadata": {},
     "output_type": "execute_result"
    }
   ],
   "source": [
    "# add columns for Listing Price $, Sale Price $, and Discount $ \n",
    "sandbox[\"Listing Price $\"]= \"\"\n",
    "sandbox[\"Sale Price $\"]= \"\"\n",
    "sandbox[\"Discount $\"]= \"\"\n",
    "sandbox.head()\n"
   ]
  },
  {
   "cell_type": "code",
   "execution_count": 26,
   "metadata": {
    "scrolled": true
   },
   "outputs": [
    {
     "data": {
      "text/html": [
       "<div>\n",
       "<style scoped>\n",
       "    .dataframe tbody tr th:only-of-type {\n",
       "        vertical-align: middle;\n",
       "    }\n",
       "\n",
       "    .dataframe tbody tr th {\n",
       "        vertical-align: top;\n",
       "    }\n",
       "\n",
       "    .dataframe thead th {\n",
       "        text-align: right;\n",
       "    }\n",
       "</style>\n",
       "<table border=\"1\" class=\"dataframe\">\n",
       "  <thead>\n",
       "    <tr style=\"text-align: right;\">\n",
       "      <th></th>\n",
       "      <th>Product Name</th>\n",
       "      <th>Product ID</th>\n",
       "      <th>Listing Price</th>\n",
       "      <th>Sale Price</th>\n",
       "      <th>Discount</th>\n",
       "      <th>Brand</th>\n",
       "      <th>Description</th>\n",
       "      <th>Rating</th>\n",
       "      <th>Reviews</th>\n",
       "      <th>Last Visited</th>\n",
       "      <th>True_Brand</th>\n",
       "      <th>Gender</th>\n",
       "      <th>Listing Price $</th>\n",
       "      <th>Sale Price $</th>\n",
       "      <th>Discount $</th>\n",
       "    </tr>\n",
       "  </thead>\n",
       "  <tbody>\n",
       "    <tr>\n",
       "      <th>0</th>\n",
       "      <td>Women's adidas Originals NMD_Racer Primeknit S...</td>\n",
       "      <td>AH2430</td>\n",
       "      <td>14999</td>\n",
       "      <td>7499</td>\n",
       "      <td>50</td>\n",
       "      <td>Adidas Adidas ORIGINALS</td>\n",
       "      <td>Channeling the streamlined look of an '80s rac...</td>\n",
       "      <td>4.8</td>\n",
       "      <td>41</td>\n",
       "      <td>2020-04-13T15:06:14</td>\n",
       "      <td>Adidas</td>\n",
       "      <td>Women</td>\n",
       "      <td>149.99</td>\n",
       "      <td>74.99</td>\n",
       "      <td>75.00</td>\n",
       "    </tr>\n",
       "    <tr>\n",
       "      <th>1</th>\n",
       "      <td>Women's adidas Originals Sleek Shoes</td>\n",
       "      <td>G27341</td>\n",
       "      <td>7599</td>\n",
       "      <td>3799</td>\n",
       "      <td>50</td>\n",
       "      <td>Adidas ORIGINALS</td>\n",
       "      <td>A modern take on adidas sport heritage, tailor...</td>\n",
       "      <td>3.3</td>\n",
       "      <td>24</td>\n",
       "      <td>2020-04-13T15:06:15</td>\n",
       "      <td>Adidas</td>\n",
       "      <td>Women</td>\n",
       "      <td>75.99</td>\n",
       "      <td>37.99</td>\n",
       "      <td>38.00</td>\n",
       "    </tr>\n",
       "    <tr>\n",
       "      <th>2</th>\n",
       "      <td>Women's adidas Swim Puka Slippers</td>\n",
       "      <td>CM0081</td>\n",
       "      <td>999</td>\n",
       "      <td>599</td>\n",
       "      <td>40</td>\n",
       "      <td>Adidas CORE / NEO</td>\n",
       "      <td>These adidas Puka slippers for women's come wi...</td>\n",
       "      <td>2.6</td>\n",
       "      <td>37</td>\n",
       "      <td>2020-04-13T15:06:15</td>\n",
       "      <td>Adidas</td>\n",
       "      <td>Women</td>\n",
       "      <td>9.99</td>\n",
       "      <td>5.99</td>\n",
       "      <td>4.00</td>\n",
       "    </tr>\n",
       "    <tr>\n",
       "      <th>3</th>\n",
       "      <td>Women's adidas Sport Inspired Questar Ride Shoes</td>\n",
       "      <td>B44832</td>\n",
       "      <td>6999</td>\n",
       "      <td>3499</td>\n",
       "      <td>50</td>\n",
       "      <td>Adidas CORE / NEO</td>\n",
       "      <td>Inspired by modern tech runners, these women's...</td>\n",
       "      <td>4.1</td>\n",
       "      <td>35</td>\n",
       "      <td>2020-04-13T15:06:15</td>\n",
       "      <td>Adidas</td>\n",
       "      <td>Women</td>\n",
       "      <td>69.99</td>\n",
       "      <td>34.99</td>\n",
       "      <td>35.00</td>\n",
       "    </tr>\n",
       "    <tr>\n",
       "      <th>4</th>\n",
       "      <td>Women's adidas Originals Taekwondo Shoes</td>\n",
       "      <td>D98205</td>\n",
       "      <td>7999</td>\n",
       "      <td>3999</td>\n",
       "      <td>50</td>\n",
       "      <td>Adidas ORIGINALS</td>\n",
       "      <td>This design is inspired by vintage Taekwondo s...</td>\n",
       "      <td>3.5</td>\n",
       "      <td>72</td>\n",
       "      <td>2020-04-13T15:06:15</td>\n",
       "      <td>Adidas</td>\n",
       "      <td>Women</td>\n",
       "      <td>79.99</td>\n",
       "      <td>39.99</td>\n",
       "      <td>40.00</td>\n",
       "    </tr>\n",
       "    <tr>\n",
       "      <th>...</th>\n",
       "      <td>...</td>\n",
       "      <td>...</td>\n",
       "      <td>...</td>\n",
       "      <td>...</td>\n",
       "      <td>...</td>\n",
       "      <td>...</td>\n",
       "      <td>...</td>\n",
       "      <td>...</td>\n",
       "      <td>...</td>\n",
       "      <td>...</td>\n",
       "      <td>...</td>\n",
       "      <td>...</td>\n",
       "      <td>...</td>\n",
       "      <td>...</td>\n",
       "      <td>...</td>\n",
       "    </tr>\n",
       "    <tr>\n",
       "      <th>3248</th>\n",
       "      <td>Nike Zoom Pegasus Turbo XX</td>\n",
       "      <td>AR4347-600</td>\n",
       "      <td>16995</td>\n",
       "      <td>13597</td>\n",
       "      <td>0</td>\n",
       "      <td>Nike</td>\n",
       "      <td>Bridging performance and style, the Nike Zoom ...</td>\n",
       "      <td>1.0</td>\n",
       "      <td>1</td>\n",
       "      <td>2020-04-13T15:38:54</td>\n",
       "      <td>Nike</td>\n",
       "      <td>Women</td>\n",
       "      <td>169.95</td>\n",
       "      <td>135.97</td>\n",
       "      <td>33.98</td>\n",
       "    </tr>\n",
       "    <tr>\n",
       "      <th>3255</th>\n",
       "      <td>Nike Zoom Pegasus Turbo 2 Special Edition</td>\n",
       "      <td>BV7757-500</td>\n",
       "      <td>15995</td>\n",
       "      <td>12797</td>\n",
       "      <td>0</td>\n",
       "      <td>Nike</td>\n",
       "      <td>The Nike Zoom Pegasus Turbo 2 is updated with ...</td>\n",
       "      <td>5.0</td>\n",
       "      <td>1</td>\n",
       "      <td>2020-04-13T15:39:05</td>\n",
       "      <td>Nike</td>\n",
       "      <td>Unknown</td>\n",
       "      <td>159.95</td>\n",
       "      <td>127.97</td>\n",
       "      <td>31.98</td>\n",
       "    </tr>\n",
       "    <tr>\n",
       "      <th>3261</th>\n",
       "      <td>Kyrie 6 'Enlightenment'</td>\n",
       "      <td>BQ4630-500</td>\n",
       "      <td>10995</td>\n",
       "      <td>8797</td>\n",
       "      <td>0</td>\n",
       "      <td>Nike</td>\n",
       "      <td>In spiritual circles, the colour purple repres...</td>\n",
       "      <td>4.4</td>\n",
       "      <td>10</td>\n",
       "      <td>2020-04-13T15:40:56</td>\n",
       "      <td>Nike</td>\n",
       "      <td>Men</td>\n",
       "      <td>109.95</td>\n",
       "      <td>87.97</td>\n",
       "      <td>21.98</td>\n",
       "    </tr>\n",
       "    <tr>\n",
       "      <th>3263</th>\n",
       "      <td>Air Jordan 8 Retro</td>\n",
       "      <td>CI1236-100</td>\n",
       "      <td>15995</td>\n",
       "      <td>12797</td>\n",
       "      <td>0</td>\n",
       "      <td>Nike</td>\n",
       "      <td>The Air Jordan 8 Retro recaptures the memorabl...</td>\n",
       "      <td>5.0</td>\n",
       "      <td>1</td>\n",
       "      <td>2020-04-13T15:41:01</td>\n",
       "      <td>Nike</td>\n",
       "      <td>Unknown</td>\n",
       "      <td>159.95</td>\n",
       "      <td>127.97</td>\n",
       "      <td>31.98</td>\n",
       "    </tr>\n",
       "    <tr>\n",
       "      <th>3265</th>\n",
       "      <td>Nike Mercurial Superfly 7 Academy TF</td>\n",
       "      <td>AT7978-414</td>\n",
       "      <td>8495</td>\n",
       "      <td>5947</td>\n",
       "      <td>0</td>\n",
       "      <td>Nike</td>\n",
       "      <td>The soft upper of the Nike Mercurial Superfly ...</td>\n",
       "      <td>5.0</td>\n",
       "      <td>1</td>\n",
       "      <td>2020-04-13T15:41:07</td>\n",
       "      <td>Nike</td>\n",
       "      <td>Unknown</td>\n",
       "      <td>84.95</td>\n",
       "      <td>59.47</td>\n",
       "      <td>25.48</td>\n",
       "    </tr>\n",
       "  </tbody>\n",
       "</table>\n",
       "<p>2680 rows × 15 columns</p>\n",
       "</div>"
      ],
      "text/plain": [
       "                                           Product Name  Product ID  \\\n",
       "0     Women's adidas Originals NMD_Racer Primeknit S...      AH2430   \n",
       "1                  Women's adidas Originals Sleek Shoes      G27341   \n",
       "2                     Women's adidas Swim Puka Slippers      CM0081   \n",
       "3      Women's adidas Sport Inspired Questar Ride Shoes      B44832   \n",
       "4              Women's adidas Originals Taekwondo Shoes      D98205   \n",
       "...                                                 ...         ...   \n",
       "3248                         Nike Zoom Pegasus Turbo XX  AR4347-600   \n",
       "3255          Nike Zoom Pegasus Turbo 2 Special Edition  BV7757-500   \n",
       "3261                            Kyrie 6 'Enlightenment'  BQ4630-500   \n",
       "3263                                 Air Jordan 8 Retro  CI1236-100   \n",
       "3265               Nike Mercurial Superfly 7 Academy TF  AT7978-414   \n",
       "\n",
       "      Listing Price  Sale Price  Discount                    Brand  \\\n",
       "0             14999        7499        50  Adidas Adidas ORIGINALS   \n",
       "1              7599        3799        50         Adidas ORIGINALS   \n",
       "2               999         599        40        Adidas CORE / NEO   \n",
       "3              6999        3499        50        Adidas CORE / NEO   \n",
       "4              7999        3999        50         Adidas ORIGINALS   \n",
       "...             ...         ...       ...                      ...   \n",
       "3248          16995       13597         0                     Nike   \n",
       "3255          15995       12797         0                     Nike   \n",
       "3261          10995        8797         0                     Nike   \n",
       "3263          15995       12797         0                     Nike   \n",
       "3265           8495        5947         0                     Nike   \n",
       "\n",
       "                                            Description  Rating  Reviews  \\\n",
       "0     Channeling the streamlined look of an '80s rac...     4.8       41   \n",
       "1     A modern take on adidas sport heritage, tailor...     3.3       24   \n",
       "2     These adidas Puka slippers for women's come wi...     2.6       37   \n",
       "3     Inspired by modern tech runners, these women's...     4.1       35   \n",
       "4     This design is inspired by vintage Taekwondo s...     3.5       72   \n",
       "...                                                 ...     ...      ...   \n",
       "3248  Bridging performance and style, the Nike Zoom ...     1.0        1   \n",
       "3255  The Nike Zoom Pegasus Turbo 2 is updated with ...     5.0        1   \n",
       "3261  In spiritual circles, the colour purple repres...     4.4       10   \n",
       "3263  The Air Jordan 8 Retro recaptures the memorabl...     5.0        1   \n",
       "3265  The soft upper of the Nike Mercurial Superfly ...     5.0        1   \n",
       "\n",
       "             Last Visited True_Brand   Gender  Listing Price $  Sale Price $  \\\n",
       "0     2020-04-13T15:06:14     Adidas    Women           149.99         74.99   \n",
       "1     2020-04-13T15:06:15     Adidas    Women            75.99         37.99   \n",
       "2     2020-04-13T15:06:15     Adidas    Women             9.99          5.99   \n",
       "3     2020-04-13T15:06:15     Adidas    Women            69.99         34.99   \n",
       "4     2020-04-13T15:06:15     Adidas    Women            79.99         39.99   \n",
       "...                   ...        ...      ...              ...           ...   \n",
       "3248  2020-04-13T15:38:54       Nike    Women           169.95        135.97   \n",
       "3255  2020-04-13T15:39:05       Nike  Unknown           159.95        127.97   \n",
       "3261  2020-04-13T15:40:56       Nike      Men           109.95         87.97   \n",
       "3263  2020-04-13T15:41:01       Nike  Unknown           159.95        127.97   \n",
       "3265  2020-04-13T15:41:07       Nike  Unknown            84.95         59.47   \n",
       "\n",
       "      Discount $  \n",
       "0          75.00  \n",
       "1          38.00  \n",
       "2           4.00  \n",
       "3          35.00  \n",
       "4          40.00  \n",
       "...          ...  \n",
       "3248       33.98  \n",
       "3255       31.98  \n",
       "3261       21.98  \n",
       "3263       31.98  \n",
       "3265       25.48  \n",
       "\n",
       "[2680 rows x 15 columns]"
      ]
     },
     "execution_count": 26,
     "metadata": {},
     "output_type": "execute_result"
    }
   ],
   "source": [
    "# populate columns for Listing Price $, Sale Price $, and Discount $ \n",
    "for row in sandbox:\n",
    "    sandbox[\"Listing Price $\"] = sandbox[\"Listing Price\"]/100\n",
    "    sandbox[\"Sale Price $\"] = sandbox[\"Sale Price\"]/100\n",
    "    discount = sandbox[\"Listing Price $\"] - sandbox[\"Sale Price $\"]\n",
    "    sandbox[\"Discount $\"] = discount\n",
    "#sandbox.head()    \n",
    "sandbox"
   ]
  },
  {
   "cell_type": "code",
   "execution_count": 27,
   "metadata": {},
   "outputs": [],
   "source": [
    "# Discount Comparison\n",
    "# MSRP = []\n",
    "# SalePrice = []\n",
    "# MSRP_Rounded = []\n",
    "# SalePrice_Rounded = []\n",
    "# for price in sandbox[\"Listing Price\"]:\n",
    "#     MSRP.append(sandbox[\"Listing Price\"]/100)\n",
    "#     MSRP_Rounded.append(round(sandbox[\"Listing Price\"]/100,0))\n",
    "# plt.hist(MSRP_Rounded, )\n",
    "# plt.show()"
   ]
  },
  {
   "cell_type": "code",
   "execution_count": 28,
   "metadata": {},
   "outputs": [
    {
     "data": {
      "image/png": "[encoded data removed]",
      "text/plain": [
       "<Figure size 432x288 with 1 Axes>"
      ]
     },
     "metadata": {
      "needs_background": "light"
     },
     "output_type": "display_data"
    }
   ],
   "source": [
    "#Create Box Plots\n",
    "\n",
    "fig1, ax1 = plt.subplots()\n",
    "ax1.set_title('Basic Ratings Plot')\n",
    "ax1.boxplot(sandbox[\"Rating\"])\n",
    "plt.show()"
   ]
  },
  {
   "cell_type": "code",
   "execution_count": 29,
   "metadata": {},
   "outputs": [
    {
     "data": {
      "text/plain": [
       "<AxesSubplot:title={'center':'Rating'}, xlabel='True_Brand'>"
      ]
     },
     "execution_count": 29,
     "metadata": {},
     "output_type": "execute_result"
    },
    {
     "data": {
      "image/png": "[encoded data removed]",
      "text/plain": [
       "<Figure size 432x288 with 1 Axes>"
      ]
     },
     "metadata": {
      "needs_background": "light"
     },
     "output_type": "display_data"
    }
   ],
   "source": [
    "# Create Box Plots - PANDAS\n",
    "sandbox.boxplot(\"Rating\", \"True_Brand\")"
   ]
  },
  {
   "cell_type": "code",
   "execution_count": 30,
   "metadata": {},
   "outputs": [
    {
     "data": {
      "text/plain": [
       "Ttest_indResult(statistic=-9.181162235290103, pvalue=9.538449921033955e-17)"
      ]
     },
     "execution_count": 30,
     "metadata": {},
     "output_type": "execute_result"
    }
   ],
   "source": [
    "#Independent T Test\n",
    "rating_adidas = sandbox.loc[sandbox[\"True_Brand\"]==\"Adidas\"]\n",
    "rating_nike = sandbox.loc[sandbox[\"True_Brand\"]== \"Nike\"]\n",
    "stats.ttest_ind(rating_adidas[\"Rating\"], rating_nike[\"Rating\"], equal_var=False)\n",
    "#rating_adidas"
   ]
  },
  {
   "cell_type": "code",
   "execution_count": 31,
   "metadata": {},
   "outputs": [
    {
     "data": {
      "text/plain": [
       "<AxesSubplot:>"
      ]
     },
     "execution_count": 31,
     "metadata": {},
     "output_type": "execute_result"
    },
    {
     "data": {
      "image/png": "[encoded data removed]",
      "text/plain": [
       "<Figure size 432x288 with 1 Axes>"
      ]
     },
     "metadata": {
      "needs_background": "light"
     },
     "output_type": "display_data"
    }
   ],
   "source": [
    "rating_nike.boxplot(\"Rating\")\n"
   ]
  },
  {
   "cell_type": "code",
   "execution_count": 32,
   "metadata": {},
   "outputs": [
    {
     "data": {
      "text/plain": [
       "<AxesSubplot:title={'center':'Rating'}, xlabel='Gender'>"
      ]
     },
     "execution_count": 32,
     "metadata": {},
     "output_type": "execute_result"
    },
    {
     "data": {
      "image/png": "[encoded data removed]",
      "text/plain": [
       "<Figure size 432x288 with 1 Axes>"
      ]
     },
     "metadata": {
      "needs_background": "light"
     },
     "output_type": "display_data"
    }
   ],
   "source": [
    "rating_nike.boxplot(\"Rating\", \"Gender\")"
   ]
  },
  {
   "cell_type": "code",
   "execution_count": 33,
   "metadata": {},
   "outputs": [
    {
     "data": {
      "text/plain": [
       "<AxesSubplot:title={'center':'Listing Price $'}, xlabel='Gender'>"
      ]
     },
     "execution_count": 33,
     "metadata": {},
     "output_type": "execute_result"
    },
    {
     "data": {
      "image/png": "[encoded data removed]",
      "text/plain": [
       "<Figure size 432x288 with 1 Axes>"
      ]
     },
     "metadata": {
      "needs_background": "light"
     },
     "output_type": "display_data"
    }
   ],
   "source": [
    "rating_nike.boxplot(\"Listing Price $\", \"Gender\")"
   ]
  },
  {
   "cell_type": "code",
   "execution_count": 34,
   "metadata": {},
   "outputs": [
    {
     "data": {
      "text/plain": [
       "<AxesSubplot:>"
      ]
     },
     "execution_count": 34,
     "metadata": {},
     "output_type": "execute_result"
    },
    {
     "data": {
      "image/png": "[encoded data removed]",
      "text/plain": [
       "<Figure size 432x288 with 1 Axes>"
      ]
     },
     "metadata": {
      "needs_background": "light"
     },
     "output_type": "display_data"
    }
   ],
   "source": [
    "rating_adidas.boxplot(\"Discount\")"
   ]
  },
  {
   "cell_type": "code",
   "execution_count": 35,
   "metadata": {},
   "outputs": [
    {
     "data": {
      "text/plain": [
       "<AxesSubplot:>"
      ]
     },
     "execution_count": 35,
     "metadata": {},
     "output_type": "execute_result"
    },
    {
     "data": {
      "image/png": "[encoded data removed]",
      "text/plain": [
       "<Figure size 432x288 with 1 Axes>"
      ]
     },
     "metadata": {
      "needs_background": "light"
     },
     "output_type": "display_data"
    }
   ],
   "source": [
    "rating_adidas.boxplot(\"Rating\")"
   ]
  },
  {
   "cell_type": "code",
   "execution_count": null,
   "metadata": {},
   "outputs": [],
   "source": []
  },
  {
   "cell_type": "code",
   "execution_count": 36,
   "metadata": {},
   "outputs": [
    {
     "data": {
      "text/plain": [
       "<AxesSubplot:title={'center':'Rating'}, xlabel='Gender'>"
      ]
     },
     "execution_count": 36,
     "metadata": {},
     "output_type": "execute_result"
    },
    {
     "data": {
      "image/png": "[encoded data removed]",
      "text/plain": [
       "<Figure size 432x288 with 1 Axes>"
      ]
     },
     "metadata": {
      "needs_background": "light"
     },
     "output_type": "display_data"
    }
   ],
   "source": [
    "rating_adidas.boxplot(\"Rating\", \"Gender\")"
   ]
  },
  {
   "cell_type": "code",
   "execution_count": null,
   "metadata": {},
   "outputs": [],
   "source": []
  },
  {
   "cell_type": "code",
   "execution_count": 37,
   "metadata": {},
   "outputs": [
    {
     "data": {
      "image/png": "[encoded data removed]",
      "text/plain": [
       "<Figure size 432x288 with 1 Axes>"
      ]
     },
     "metadata": {
      "needs_background": "light"
     },
     "output_type": "display_data"
    }
   ],
   "source": [
    "# make boxplot with Seaborn\n",
    "bplot=sns.boxplot(x='Gender', y='Rating', \n",
    "                 data=rating_adidas, \n",
    "                 width=0.5,\n",
    "                 palette=\"colorblind\")\n",
    " \n"
   ]
  },
  {
   "cell_type": "code",
   "execution_count": 73,
   "metadata": {},
   "outputs": [
    {
     "data": {
      "image/png": "[encoded data removed]",
      "text/plain": [
       "<Figure size 842.4x595.44 with 1 Axes>"
      ]
     },
     "metadata": {},
     "output_type": "display_data"
    }
   ],
   "source": [
    "# add stripplot to boxplot with Seaborn\n",
    "sns.set(rc={'figure.figsize':(11.7,8.27)})\n",
    "\n",
    "bplot=sns.boxplot(x='Gender', y='Rating', \n",
    "                 data=rating_adidas, \n",
    "                 width=0.5,\n",
    "                 palette=sns.color_palette(\"hls\", 8))\n",
    "bplot=sns.stripplot(x='Gender', y='Rating', \n",
    "                   data=rating_adidas, \n",
    "                   jitter=True, \n",
    "                   marker='o', \n",
    "                   alpha=0.5,\n",
    "                   color='black')"
   ]
  },
  {
   "cell_type": "code",
   "execution_count": 68,
   "metadata": {},
   "outputs": [
    {
     "data": {
      "image/png": "[encoded data removed]",
      "text/plain": [
       "<Figure size 842.4x595.44 with 1 Axes>"
      ]
     },
     "metadata": {},
     "output_type": "display_data"
    }
   ],
   "source": [
    "# add stripplot to boxplot with Seaborn\n",
    "sns.set(rc={'figure.figsize':(11.7,8.27)})\n",
    "\n",
    "bplot2=sns.boxplot(x='Gender', y='Rating', \n",
    "                 data=rating_nike, \n",
    "                 width=0.5,\n",
    "                 palette=\"bright\")\n",
    "bplot2=sns.stripplot(x='Gender', y='Rating', \n",
    "                   data=rating_nike, \n",
    "                   jitter=True, \n",
    "                   marker='o', \n",
    "                   alpha=0.5,\n",
    "                   color='black')"
   ]
  },
  {
   "cell_type": "code",
   "execution_count": 48,
   "metadata": {},
   "outputs": [],
   "source": [
    "#Attempt at Boxen Plot - did not fly\n",
    "# sns.set_theme(style=\"whitegrid\")\n",
    "\n",
    "# #diamonds = sns.load_dataset(\"diamonds\")\n",
    "# discount_index = sandbox[\"Discount\"]\n",
    "# discount= sandbox[\"Discount\"] \n",
    "# rating=sandbox[\"Rating\"]\n",
    "# sns.boxenplot(x=discount, y=rating,\n",
    "#               color=\"b\", order=discount_index,\n",
    "#               scale=\"linear\", data=sandbox)"
   ]
  },
  {
   "cell_type": "code",
   "execution_count": null,
   "metadata": {},
   "outputs": [],
   "source": []
  },
  {
   "cell_type": "code",
   "execution_count": 40,
   "metadata": {},
   "outputs": [
    {
     "data": {
      "text/plain": [
       "0        Women\n",
       "1        Women\n",
       "2        Women\n",
       "3        Women\n",
       "4        Women\n",
       "         ...  \n",
       "2620       Men\n",
       "2621       Men\n",
       "2622       Men\n",
       "2623    Unisex\n",
       "2624       Men\n",
       "Name: Gender, Length: 2525, dtype: object"
      ]
     },
     "execution_count": 40,
     "metadata": {},
     "output_type": "execute_result"
    }
   ],
   "source": [
    "gender = rating_adidas[\"Gender\"]\n",
    "gender"
   ]
  },
  {
   "cell_type": "code",
   "execution_count": 57,
   "metadata": {},
   "outputs": [
    {
     "data": {
      "text/html": [
       "<div>\n",
       "<style scoped>\n",
       "    .dataframe tbody tr th:only-of-type {\n",
       "        vertical-align: middle;\n",
       "    }\n",
       "\n",
       "    .dataframe tbody tr th {\n",
       "        vertical-align: top;\n",
       "    }\n",
       "\n",
       "    .dataframe thead th {\n",
       "        text-align: right;\n",
       "    }\n",
       "</style>\n",
       "<table border=\"1\" class=\"dataframe\">\n",
       "  <thead>\n",
       "    <tr style=\"text-align: right;\">\n",
       "      <th></th>\n",
       "      <th>Product Name</th>\n",
       "      <th>Product ID</th>\n",
       "      <th>Listing Price</th>\n",
       "      <th>Sale Price</th>\n",
       "      <th>Discount</th>\n",
       "      <th>Brand</th>\n",
       "      <th>Description</th>\n",
       "      <th>Rating</th>\n",
       "      <th>Reviews</th>\n",
       "      <th>Last Visited</th>\n",
       "      <th>True_Brand</th>\n",
       "      <th>Gender</th>\n",
       "      <th>Listing Price $</th>\n",
       "      <th>Sale Price $</th>\n",
       "      <th>Discount $</th>\n",
       "      <th>Revised_Listing_Price</th>\n",
       "      <th>Revised_Sale_Price</th>\n",
       "    </tr>\n",
       "  </thead>\n",
       "  <tbody>\n",
       "    <tr>\n",
       "      <th>0</th>\n",
       "      <td>Women's adidas Originals NMD_Racer Primeknit S...</td>\n",
       "      <td>AH2430</td>\n",
       "      <td>14999</td>\n",
       "      <td>7499</td>\n",
       "      <td>50</td>\n",
       "      <td>Adidas Adidas ORIGINALS</td>\n",
       "      <td>Channeling the streamlined look of an '80s rac...</td>\n",
       "      <td>4.8</td>\n",
       "      <td>41</td>\n",
       "      <td>2020-04-13T15:06:14</td>\n",
       "      <td>Adidas</td>\n",
       "      <td>Women</td>\n",
       "      <td>149.99</td>\n",
       "      <td>74.99</td>\n",
       "      <td>75.00</td>\n",
       "      <td>149.99</td>\n",
       "      <td>74.99</td>\n",
       "    </tr>\n",
       "    <tr>\n",
       "      <th>1</th>\n",
       "      <td>Women's adidas Originals Sleek Shoes</td>\n",
       "      <td>G27341</td>\n",
       "      <td>7599</td>\n",
       "      <td>3799</td>\n",
       "      <td>50</td>\n",
       "      <td>Adidas ORIGINALS</td>\n",
       "      <td>A modern take on adidas sport heritage, tailor...</td>\n",
       "      <td>3.3</td>\n",
       "      <td>24</td>\n",
       "      <td>2020-04-13T15:06:15</td>\n",
       "      <td>Adidas</td>\n",
       "      <td>Women</td>\n",
       "      <td>75.99</td>\n",
       "      <td>37.99</td>\n",
       "      <td>38.00</td>\n",
       "      <td>75.99</td>\n",
       "      <td>37.99</td>\n",
       "    </tr>\n",
       "    <tr>\n",
       "      <th>2</th>\n",
       "      <td>Women's adidas Swim Puka Slippers</td>\n",
       "      <td>CM0081</td>\n",
       "      <td>999</td>\n",
       "      <td>599</td>\n",
       "      <td>40</td>\n",
       "      <td>Adidas CORE / NEO</td>\n",
       "      <td>These adidas Puka slippers for women's come wi...</td>\n",
       "      <td>2.6</td>\n",
       "      <td>37</td>\n",
       "      <td>2020-04-13T15:06:15</td>\n",
       "      <td>Adidas</td>\n",
       "      <td>Women</td>\n",
       "      <td>9.99</td>\n",
       "      <td>5.99</td>\n",
       "      <td>4.00</td>\n",
       "      <td>9.99</td>\n",
       "      <td>5.99</td>\n",
       "    </tr>\n",
       "    <tr>\n",
       "      <th>3</th>\n",
       "      <td>Women's adidas Sport Inspired Questar Ride Shoes</td>\n",
       "      <td>B44832</td>\n",
       "      <td>6999</td>\n",
       "      <td>3499</td>\n",
       "      <td>50</td>\n",
       "      <td>Adidas CORE / NEO</td>\n",
       "      <td>Inspired by modern tech runners, these women's...</td>\n",
       "      <td>4.1</td>\n",
       "      <td>35</td>\n",
       "      <td>2020-04-13T15:06:15</td>\n",
       "      <td>Adidas</td>\n",
       "      <td>Women</td>\n",
       "      <td>69.99</td>\n",
       "      <td>34.99</td>\n",
       "      <td>35.00</td>\n",
       "      <td>69.99</td>\n",
       "      <td>34.99</td>\n",
       "    </tr>\n",
       "    <tr>\n",
       "      <th>4</th>\n",
       "      <td>Women's adidas Originals Taekwondo Shoes</td>\n",
       "      <td>D98205</td>\n",
       "      <td>7999</td>\n",
       "      <td>3999</td>\n",
       "      <td>50</td>\n",
       "      <td>Adidas ORIGINALS</td>\n",
       "      <td>This design is inspired by vintage Taekwondo s...</td>\n",
       "      <td>3.5</td>\n",
       "      <td>72</td>\n",
       "      <td>2020-04-13T15:06:15</td>\n",
       "      <td>Adidas</td>\n",
       "      <td>Women</td>\n",
       "      <td>79.99</td>\n",
       "      <td>39.99</td>\n",
       "      <td>40.00</td>\n",
       "      <td>79.99</td>\n",
       "      <td>39.99</td>\n",
       "    </tr>\n",
       "    <tr>\n",
       "      <th>...</th>\n",
       "      <td>...</td>\n",
       "      <td>...</td>\n",
       "      <td>...</td>\n",
       "      <td>...</td>\n",
       "      <td>...</td>\n",
       "      <td>...</td>\n",
       "      <td>...</td>\n",
       "      <td>...</td>\n",
       "      <td>...</td>\n",
       "      <td>...</td>\n",
       "      <td>...</td>\n",
       "      <td>...</td>\n",
       "      <td>...</td>\n",
       "      <td>...</td>\n",
       "      <td>...</td>\n",
       "      <td>...</td>\n",
       "      <td>...</td>\n",
       "    </tr>\n",
       "    <tr>\n",
       "      <th>3248</th>\n",
       "      <td>Nike Zoom Pegasus Turbo XX</td>\n",
       "      <td>AR4347-600</td>\n",
       "      <td>16995</td>\n",
       "      <td>13597</td>\n",
       "      <td>0</td>\n",
       "      <td>Nike</td>\n",
       "      <td>Bridging performance and style, the Nike Zoom ...</td>\n",
       "      <td>1.0</td>\n",
       "      <td>1</td>\n",
       "      <td>2020-04-13T15:38:54</td>\n",
       "      <td>Nike</td>\n",
       "      <td>Women</td>\n",
       "      <td>169.95</td>\n",
       "      <td>135.97</td>\n",
       "      <td>33.98</td>\n",
       "      <td>169.95</td>\n",
       "      <td>135.97</td>\n",
       "    </tr>\n",
       "    <tr>\n",
       "      <th>3255</th>\n",
       "      <td>Nike Zoom Pegasus Turbo 2 Special Edition</td>\n",
       "      <td>BV7757-500</td>\n",
       "      <td>15995</td>\n",
       "      <td>12797</td>\n",
       "      <td>0</td>\n",
       "      <td>Nike</td>\n",
       "      <td>The Nike Zoom Pegasus Turbo 2 is updated with ...</td>\n",
       "      <td>5.0</td>\n",
       "      <td>1</td>\n",
       "      <td>2020-04-13T15:39:05</td>\n",
       "      <td>Nike</td>\n",
       "      <td>Unknown</td>\n",
       "      <td>159.95</td>\n",
       "      <td>127.97</td>\n",
       "      <td>31.98</td>\n",
       "      <td>159.95</td>\n",
       "      <td>127.97</td>\n",
       "    </tr>\n",
       "    <tr>\n",
       "      <th>3261</th>\n",
       "      <td>Kyrie 6 'Enlightenment'</td>\n",
       "      <td>BQ4630-500</td>\n",
       "      <td>10995</td>\n",
       "      <td>8797</td>\n",
       "      <td>0</td>\n",
       "      <td>Nike</td>\n",
       "      <td>In spiritual circles, the colour purple repres...</td>\n",
       "      <td>4.4</td>\n",
       "      <td>10</td>\n",
       "      <td>2020-04-13T15:40:56</td>\n",
       "      <td>Nike</td>\n",
       "      <td>Men</td>\n",
       "      <td>109.95</td>\n",
       "      <td>87.97</td>\n",
       "      <td>21.98</td>\n",
       "      <td>109.95</td>\n",
       "      <td>87.97</td>\n",
       "    </tr>\n",
       "    <tr>\n",
       "      <th>3263</th>\n",
       "      <td>Air Jordan 8 Retro</td>\n",
       "      <td>CI1236-100</td>\n",
       "      <td>15995</td>\n",
       "      <td>12797</td>\n",
       "      <td>0</td>\n",
       "      <td>Nike</td>\n",
       "      <td>The Air Jordan 8 Retro recaptures the memorabl...</td>\n",
       "      <td>5.0</td>\n",
       "      <td>1</td>\n",
       "      <td>2020-04-13T15:41:01</td>\n",
       "      <td>Nike</td>\n",
       "      <td>Unknown</td>\n",
       "      <td>159.95</td>\n",
       "      <td>127.97</td>\n",
       "      <td>31.98</td>\n",
       "      <td>159.95</td>\n",
       "      <td>127.97</td>\n",
       "    </tr>\n",
       "    <tr>\n",
       "      <th>3265</th>\n",
       "      <td>Nike Mercurial Superfly 7 Academy TF</td>\n",
       "      <td>AT7978-414</td>\n",
       "      <td>8495</td>\n",
       "      <td>5947</td>\n",
       "      <td>0</td>\n",
       "      <td>Nike</td>\n",
       "      <td>The soft upper of the Nike Mercurial Superfly ...</td>\n",
       "      <td>5.0</td>\n",
       "      <td>1</td>\n",
       "      <td>2020-04-13T15:41:07</td>\n",
       "      <td>Nike</td>\n",
       "      <td>Unknown</td>\n",
       "      <td>84.95</td>\n",
       "      <td>59.47</td>\n",
       "      <td>25.48</td>\n",
       "      <td>84.95</td>\n",
       "      <td>59.47</td>\n",
       "    </tr>\n",
       "  </tbody>\n",
       "</table>\n",
       "<p>2680 rows × 17 columns</p>\n",
       "</div>"
      ],
      "text/plain": [
       "                                           Product Name  Product ID  \\\n",
       "0     Women's adidas Originals NMD_Racer Primeknit S...      AH2430   \n",
       "1                  Women's adidas Originals Sleek Shoes      G27341   \n",
       "2                     Women's adidas Swim Puka Slippers      CM0081   \n",
       "3      Women's adidas Sport Inspired Questar Ride Shoes      B44832   \n",
       "4              Women's adidas Originals Taekwondo Shoes      D98205   \n",
       "...                                                 ...         ...   \n",
       "3248                         Nike Zoom Pegasus Turbo XX  AR4347-600   \n",
       "3255          Nike Zoom Pegasus Turbo 2 Special Edition  BV7757-500   \n",
       "3261                            Kyrie 6 'Enlightenment'  BQ4630-500   \n",
       "3263                                 Air Jordan 8 Retro  CI1236-100   \n",
       "3265               Nike Mercurial Superfly 7 Academy TF  AT7978-414   \n",
       "\n",
       "      Listing Price  Sale Price  Discount                    Brand  \\\n",
       "0             14999        7499        50  Adidas Adidas ORIGINALS   \n",
       "1              7599        3799        50         Adidas ORIGINALS   \n",
       "2               999         599        40        Adidas CORE / NEO   \n",
       "3              6999        3499        50        Adidas CORE / NEO   \n",
       "4              7999        3999        50         Adidas ORIGINALS   \n",
       "...             ...         ...       ...                      ...   \n",
       "3248          16995       13597         0                     Nike   \n",
       "3255          15995       12797         0                     Nike   \n",
       "3261          10995        8797         0                     Nike   \n",
       "3263          15995       12797         0                     Nike   \n",
       "3265           8495        5947         0                     Nike   \n",
       "\n",
       "                                            Description  Rating  Reviews  \\\n",
       "0     Channeling the streamlined look of an '80s rac...     4.8       41   \n",
       "1     A modern take on adidas sport heritage, tailor...     3.3       24   \n",
       "2     These adidas Puka slippers for women's come wi...     2.6       37   \n",
       "3     Inspired by modern tech runners, these women's...     4.1       35   \n",
       "4     This design is inspired by vintage Taekwondo s...     3.5       72   \n",
       "...                                                 ...     ...      ...   \n",
       "3248  Bridging performance and style, the Nike Zoom ...     1.0        1   \n",
       "3255  The Nike Zoom Pegasus Turbo 2 is updated with ...     5.0        1   \n",
       "3261  In spiritual circles, the colour purple repres...     4.4       10   \n",
       "3263  The Air Jordan 8 Retro recaptures the memorabl...     5.0        1   \n",
       "3265  The soft upper of the Nike Mercurial Superfly ...     5.0        1   \n",
       "\n",
       "             Last Visited True_Brand   Gender  Listing Price $  Sale Price $  \\\n",
       "0     2020-04-13T15:06:14     Adidas    Women           149.99         74.99   \n",
       "1     2020-04-13T15:06:15     Adidas    Women            75.99         37.99   \n",
       "2     2020-04-13T15:06:15     Adidas    Women             9.99          5.99   \n",
       "3     2020-04-13T15:06:15     Adidas    Women            69.99         34.99   \n",
       "4     2020-04-13T15:06:15     Adidas    Women            79.99         39.99   \n",
       "...                   ...        ...      ...              ...           ...   \n",
       "3248  2020-04-13T15:38:54       Nike    Women           169.95        135.97   \n",
       "3255  2020-04-13T15:39:05       Nike  Unknown           159.95        127.97   \n",
       "3261  2020-04-13T15:40:56       Nike      Men           109.95         87.97   \n",
       "3263  2020-04-13T15:41:01       Nike  Unknown           159.95        127.97   \n",
       "3265  2020-04-13T15:41:07       Nike  Unknown            84.95         59.47   \n",
       "\n",
       "      Discount $ Revised_Listing_Price Revised_Sale_Price  \n",
       "0          75.00                149.99              74.99  \n",
       "1          38.00                 75.99              37.99  \n",
       "2           4.00                  9.99               5.99  \n",
       "3          35.00                 69.99              34.99  \n",
       "4          40.00                 79.99              39.99  \n",
       "...          ...                   ...                ...  \n",
       "3248       33.98                169.95             135.97  \n",
       "3255       31.98                159.95             127.97  \n",
       "3261       21.98                109.95              87.97  \n",
       "3263       31.98                159.95             127.97  \n",
       "3265       25.48                 84.95              59.47  \n",
       "\n",
       "[2680 rows x 17 columns]"
      ]
     },
     "execution_count": 57,
     "metadata": {},
     "output_type": "execute_result"
    }
   ],
   "source": [
    "#Borrow Sung's code for pricing tiers - \n",
    "sandbox['Revised_Listing_Price'] = \"\"\n",
    "sandbox['Revised_Sale_Price'] = \"\"\n",
    "\n",
    "for index, row in sandbox.iterrows():\n",
    "    msrp = row[\"Listing Price\"]\n",
    "    sold_price = row[\"Sale Price\"]\n",
    "    \n",
    "    sandbox.loc[[index], \"Revised_Listing_Price\"]= msrp / 100\n",
    "    sandbox.loc[[index], \"Revised_Sale_Price\"]= sold_price / 100\n",
    "sandbox"
   ]
  },
  {
   "cell_type": "code",
   "execution_count": 66,
   "metadata": {},
   "outputs": [
    {
     "data": {
      "text/plain": [
       "<seaborn.axisgrid.JointGrid at 0x7faf49940eb8>"
      ]
     },
     "execution_count": 66,
     "metadata": {},
     "output_type": "execute_result"
    },
    {
     "data": {
      "image/png": "[encoded data removed]",
      "text/plain": [
       "<Figure size 432x432 with 3 Axes>"
      ]
     },
     "metadata": {},
     "output_type": "display_data"
    }
   ],
   "source": [
    "#attempting a joint graph\n",
    "\n",
    "sns.set_theme(style=\"ticks\")\n",
    "\n",
    "data = sandbox\n",
    "x = sandbox[\"Listing Price $\"]\n",
    "y = sandbox[\"Rating\"]\n",
    "\n",
    "sns.jointplot(x=x, y=y, kind=\"hex\", color=\"#A479F0\")"
   ]
  },
  {
   "cell_type": "code",
   "execution_count": 50,
   "metadata": {},
   "outputs": [
    {
     "data": {
      "text/html": [
       "<div>\n",
       "<style scoped>\n",
       "    .dataframe tbody tr th:only-of-type {\n",
       "        vertical-align: middle;\n",
       "    }\n",
       "\n",
       "    .dataframe tbody tr th {\n",
       "        vertical-align: top;\n",
       "    }\n",
       "\n",
       "    .dataframe thead th {\n",
       "        text-align: right;\n",
       "    }\n",
       "</style>\n",
       "<table border=\"1\" class=\"dataframe\">\n",
       "  <thead>\n",
       "    <tr style=\"text-align: right;\">\n",
       "      <th></th>\n",
       "      <th>True_Brand</th>\n",
       "      <th>Revised_Sale_Price</th>\n",
       "    </tr>\n",
       "  </thead>\n",
       "  <tbody>\n",
       "    <tr>\n",
       "      <th>0</th>\n",
       "      <td>Adidas</td>\n",
       "      <td>74.99</td>\n",
       "    </tr>\n",
       "    <tr>\n",
       "      <th>1</th>\n",
       "      <td>Adidas</td>\n",
       "      <td>37.99</td>\n",
       "    </tr>\n",
       "    <tr>\n",
       "      <th>2</th>\n",
       "      <td>Adidas</td>\n",
       "      <td>5.99</td>\n",
       "    </tr>\n",
       "    <tr>\n",
       "      <th>3</th>\n",
       "      <td>Adidas</td>\n",
       "      <td>34.99</td>\n",
       "    </tr>\n",
       "    <tr>\n",
       "      <th>4</th>\n",
       "      <td>Adidas</td>\n",
       "      <td>39.99</td>\n",
       "    </tr>\n",
       "    <tr>\n",
       "      <th>...</th>\n",
       "      <td>...</td>\n",
       "      <td>...</td>\n",
       "    </tr>\n",
       "    <tr>\n",
       "      <th>3248</th>\n",
       "      <td>Nike</td>\n",
       "      <td>135.97</td>\n",
       "    </tr>\n",
       "    <tr>\n",
       "      <th>3255</th>\n",
       "      <td>Nike</td>\n",
       "      <td>127.97</td>\n",
       "    </tr>\n",
       "    <tr>\n",
       "      <th>3261</th>\n",
       "      <td>Nike</td>\n",
       "      <td>87.97</td>\n",
       "    </tr>\n",
       "    <tr>\n",
       "      <th>3263</th>\n",
       "      <td>Nike</td>\n",
       "      <td>127.97</td>\n",
       "    </tr>\n",
       "    <tr>\n",
       "      <th>3265</th>\n",
       "      <td>Nike</td>\n",
       "      <td>59.47</td>\n",
       "    </tr>\n",
       "  </tbody>\n",
       "</table>\n",
       "<p>2680 rows × 2 columns</p>\n",
       "</div>"
      ],
      "text/plain": [
       "     True_Brand Revised_Sale_Price\n",
       "0        Adidas              74.99\n",
       "1        Adidas              37.99\n",
       "2        Adidas               5.99\n",
       "3        Adidas              34.99\n",
       "4        Adidas              39.99\n",
       "...         ...                ...\n",
       "3248       Nike             135.97\n",
       "3255       Nike             127.97\n",
       "3261       Nike              87.97\n",
       "3263       Nike             127.97\n",
       "3265       Nike              59.47\n",
       "\n",
       "[2680 rows x 2 columns]"
      ]
     },
     "execution_count": 50,
     "metadata": {},
     "output_type": "execute_result"
    }
   ],
   "source": [
    "\n",
    "\n",
    "#begin the pricing tier comparison of Nike and Adidas using Sale_Price\n",
    "pricing_tier_df = sandbox[[\"True_Brand\", \"Revised_Sale_Price\"]]\n",
    "pricing_tier_df\n",
    "\n",
    "# bins = [0, 24.99, 49.99, 74.99, 99.99, 124.99, 149.99, 174.99, 199.99, 3000] --> this is at $25 increment which seemed \n",
    "# too narrow so trying $50 increment\n",
    "bins = [0, 49.99, 99.99, 149.99, 199.99, 3000]\n",
    "# labels = [\"<$24.99\",\"$25-49.99\", \"$50-74.99\", \"$75-99.99\", \"$100-124.99\", \"$125-149.99\", \"$150-174.99\", \"$175-199.99\", \"$200+\"]\n",
    "labels = [\"<$50\",\"$50-99.99\", \"$100-149.99\", \"$150-199.99\", \"$200+\"]\n",
    "\n",
    "pricing_tier_df[\"Sale_Price_Tier\"] = pd.cut(pricing_tier_df[\"Revised_Sale_Price\"],bins,labels = labels )\n",
    "pricing_tier_df.reset_index()\n",
    "\n",
    "\n"
   ]
  },
  {
   "cell_type": "code",
   "execution_count": 53,
   "metadata": {},
   "outputs": [
    {
     "data": {
      "text/plain": [
       "155"
      ]
     },
     "execution_count": 53,
     "metadata": {},
     "output_type": "execute_result"
    }
   ],
   "source": [
    "#create a new Nike dataframe\n",
    "nike_pricing_df = pricing_tier_df[pricing_tier_df[\"True_Brand\"] == 'Nike']\n",
    "\n",
    "#create a total count of Nike products.  \n",
    "nike_total_product_count = nike_pricing_df[\"True_Brand\"].count()\n",
    "nike_total_product_count\n",
    "\n"
   ]
  },
  {
   "cell_type": "code",
   "execution_count": 59,
   "metadata": {},
   "outputs": [
    {
     "ename": "KeyError",
     "evalue": "'Sale_Price_Tier'",
     "output_type": "error",
     "traceback": [
      "\u001b[0;31m---------------------------------------------------------------------------\u001b[0m",
      "\u001b[0;31mKeyError\u001b[0m                                  Traceback (most recent call last)",
      "\u001b[0;32m~/opt/anaconda3/envs/PythonData/lib/python3.6/site-packages/pandas/core/indexes/base.py\u001b[0m in \u001b[0;36mget_loc\u001b[0;34m(self, key, method, tolerance)\u001b[0m\n\u001b[1;32m   2888\u001b[0m             \u001b[0;32mtry\u001b[0m\u001b[0;34m:\u001b[0m\u001b[0;34m\u001b[0m\u001b[0;34m\u001b[0m\u001b[0m\n\u001b[0;32m-> 2889\u001b[0;31m                 \u001b[0;32mreturn\u001b[0m \u001b[0mself\u001b[0m\u001b[0;34m.\u001b[0m\u001b[0m_engine\u001b[0m\u001b[0;34m.\u001b[0m\u001b[0mget_loc\u001b[0m\u001b[0;34m(\u001b[0m\u001b[0mcasted_key\u001b[0m\u001b[0;34m)\u001b[0m\u001b[0;34m\u001b[0m\u001b[0;34m\u001b[0m\u001b[0m\n\u001b[0m\u001b[1;32m   2890\u001b[0m             \u001b[0;32mexcept\u001b[0m \u001b[0mKeyError\u001b[0m \u001b[0;32mas\u001b[0m \u001b[0merr\u001b[0m\u001b[0;34m:\u001b[0m\u001b[0;34m\u001b[0m\u001b[0;34m\u001b[0m\u001b[0m\n",
      "\u001b[0;32mpandas/_libs/index.pyx\u001b[0m in \u001b[0;36mpandas._libs.index.IndexEngine.get_loc\u001b[0;34m()\u001b[0m\n",
      "\u001b[0;32mpandas/_libs/index.pyx\u001b[0m in \u001b[0;36mpandas._libs.index.IndexEngine.get_loc\u001b[0;34m()\u001b[0m\n",
      "\u001b[0;32mpandas/_libs/hashtable_class_helper.pxi\u001b[0m in \u001b[0;36mpandas._libs.hashtable.PyObjectHashTable.get_item\u001b[0;34m()\u001b[0m\n",
      "\u001b[0;32mpandas/_libs/hashtable_class_helper.pxi\u001b[0m in \u001b[0;36mpandas._libs.hashtable.PyObjectHashTable.get_item\u001b[0;34m()\u001b[0m\n",
      "\u001b[0;31mKeyError\u001b[0m: 'Sale_Price_Tier'",
      "\nThe above exception was the direct cause of the following exception:\n",
      "\u001b[0;31mKeyError\u001b[0m                                  Traceback (most recent call last)",
      "\u001b[0;32m<ipython-input-59-d44ffcd48ecd>\u001b[0m in \u001b[0;36m<module>\u001b[0;34m\u001b[0m\n\u001b[0;32m----> 1\u001b[0;31m \u001b[0mnike_count_per_tier\u001b[0m \u001b[0;34m=\u001b[0m \u001b[0mnike_pricing_df\u001b[0m\u001b[0;34m[\u001b[0m\u001b[0;34m\"Sale_Price_Tier\"\u001b[0m\u001b[0;34m]\u001b[0m\u001b[0;34m.\u001b[0m\u001b[0mvalue_counts\u001b[0m\u001b[0;34m(\u001b[0m\u001b[0;34m)\u001b[0m\u001b[0;34m\u001b[0m\u001b[0;34m\u001b[0m\u001b[0m\n\u001b[0m\u001b[1;32m      2\u001b[0m \u001b[0;34m\u001b[0m\u001b[0m\n\u001b[1;32m      3\u001b[0m \u001b[0;31m#calculate the % to total per each price tier\u001b[0m\u001b[0;34m\u001b[0m\u001b[0;34m\u001b[0m\u001b[0;34m\u001b[0m\u001b[0m\n\u001b[1;32m      4\u001b[0m \u001b[0mnike_percent_to_total\u001b[0m \u001b[0;34m=\u001b[0m \u001b[0;34m(\u001b[0m\u001b[0mnike_count_per_tier\u001b[0m \u001b[0;34m/\u001b[0m \u001b[0mnike_total_product_count\u001b[0m\u001b[0;34m)\u001b[0m\u001b[0;34m*\u001b[0m\u001b[0;36m100\u001b[0m\u001b[0;34m\u001b[0m\u001b[0;34m\u001b[0m\u001b[0m\n\u001b[1;32m      5\u001b[0m \u001b[0;31m#create a new Nike dataframe that shows the count of product in each price tier as well as % to Total\u001b[0m\u001b[0;34m\u001b[0m\u001b[0;34m\u001b[0m\u001b[0;34m\u001b[0m\u001b[0m\n",
      "\u001b[0;32m~/opt/anaconda3/envs/PythonData/lib/python3.6/site-packages/pandas/core/frame.py\u001b[0m in \u001b[0;36m__getitem__\u001b[0;34m(self, key)\u001b[0m\n\u001b[1;32m   2900\u001b[0m             \u001b[0;32mif\u001b[0m \u001b[0mself\u001b[0m\u001b[0;34m.\u001b[0m\u001b[0mcolumns\u001b[0m\u001b[0;34m.\u001b[0m\u001b[0mnlevels\u001b[0m \u001b[0;34m>\u001b[0m \u001b[0;36m1\u001b[0m\u001b[0;34m:\u001b[0m\u001b[0;34m\u001b[0m\u001b[0;34m\u001b[0m\u001b[0m\n\u001b[1;32m   2901\u001b[0m                 \u001b[0;32mreturn\u001b[0m \u001b[0mself\u001b[0m\u001b[0;34m.\u001b[0m\u001b[0m_getitem_multilevel\u001b[0m\u001b[0;34m(\u001b[0m\u001b[0mkey\u001b[0m\u001b[0;34m)\u001b[0m\u001b[0;34m\u001b[0m\u001b[0;34m\u001b[0m\u001b[0m\n\u001b[0;32m-> 2902\u001b[0;31m             \u001b[0mindexer\u001b[0m \u001b[0;34m=\u001b[0m \u001b[0mself\u001b[0m\u001b[0;34m.\u001b[0m\u001b[0mcolumns\u001b[0m\u001b[0;34m.\u001b[0m\u001b[0mget_loc\u001b[0m\u001b[0;34m(\u001b[0m\u001b[0mkey\u001b[0m\u001b[0;34m)\u001b[0m\u001b[0;34m\u001b[0m\u001b[0;34m\u001b[0m\u001b[0m\n\u001b[0m\u001b[1;32m   2903\u001b[0m             \u001b[0;32mif\u001b[0m \u001b[0mis_integer\u001b[0m\u001b[0;34m(\u001b[0m\u001b[0mindexer\u001b[0m\u001b[0;34m)\u001b[0m\u001b[0;34m:\u001b[0m\u001b[0;34m\u001b[0m\u001b[0;34m\u001b[0m\u001b[0m\n\u001b[1;32m   2904\u001b[0m                 \u001b[0mindexer\u001b[0m \u001b[0;34m=\u001b[0m \u001b[0;34m[\u001b[0m\u001b[0mindexer\u001b[0m\u001b[0;34m]\u001b[0m\u001b[0;34m\u001b[0m\u001b[0;34m\u001b[0m\u001b[0m\n",
      "\u001b[0;32m~/opt/anaconda3/envs/PythonData/lib/python3.6/site-packages/pandas/core/indexes/base.py\u001b[0m in \u001b[0;36mget_loc\u001b[0;34m(self, key, method, tolerance)\u001b[0m\n\u001b[1;32m   2889\u001b[0m                 \u001b[0;32mreturn\u001b[0m \u001b[0mself\u001b[0m\u001b[0;34m.\u001b[0m\u001b[0m_engine\u001b[0m\u001b[0;34m.\u001b[0m\u001b[0mget_loc\u001b[0m\u001b[0;34m(\u001b[0m\u001b[0mcasted_key\u001b[0m\u001b[0;34m)\u001b[0m\u001b[0;34m\u001b[0m\u001b[0;34m\u001b[0m\u001b[0m\n\u001b[1;32m   2890\u001b[0m             \u001b[0;32mexcept\u001b[0m \u001b[0mKeyError\u001b[0m \u001b[0;32mas\u001b[0m \u001b[0merr\u001b[0m\u001b[0;34m:\u001b[0m\u001b[0;34m\u001b[0m\u001b[0;34m\u001b[0m\u001b[0m\n\u001b[0;32m-> 2891\u001b[0;31m                 \u001b[0;32mraise\u001b[0m \u001b[0mKeyError\u001b[0m\u001b[0;34m(\u001b[0m\u001b[0mkey\u001b[0m\u001b[0;34m)\u001b[0m \u001b[0;32mfrom\u001b[0m \u001b[0merr\u001b[0m\u001b[0;34m\u001b[0m\u001b[0;34m\u001b[0m\u001b[0m\n\u001b[0m\u001b[1;32m   2892\u001b[0m \u001b[0;34m\u001b[0m\u001b[0m\n\u001b[1;32m   2893\u001b[0m         \u001b[0;32mif\u001b[0m \u001b[0mtolerance\u001b[0m \u001b[0;32mis\u001b[0m \u001b[0;32mnot\u001b[0m \u001b[0;32mNone\u001b[0m\u001b[0;34m:\u001b[0m\u001b[0;34m\u001b[0m\u001b[0;34m\u001b[0m\u001b[0m\n",
      "\u001b[0;31mKeyError\u001b[0m: 'Sale_Price_Tier'"
     ]
    }
   ],
   "source": [
    "nike_count_per_tier = nike_pricing_df[\"Sale_Price_Tier\"].value_counts()\n",
    "\n",
    "#calculate the % to total per each price tier\n",
    "nike_percent_to_total = (nike_count_per_tier / nike_total_product_count)*100\n",
    "#create a new Nike dataframe that shows the count of product in each price tier as well as % to Total\n",
    "nike_summary = pd.DataFrame({\"Nike Product Count\": nike_count_per_tier,\n",
    "                                    \"% to Total (Nike Sale Price)\": nike_percent_to_total})\n",
    "\n",
    "nike_summary = nike_summary.sort_index()\n",
    "nike_summary\n",
    "\n"
   ]
  },
  {
   "cell_type": "code",
   "execution_count": null,
   "metadata": {},
   "outputs": [],
   "source": []
  },
  {
   "cell_type": "code",
   "execution_count": null,
   "metadata": {},
   "outputs": [],
   "source": []
  }
 ],
 "metadata": {
  "kernelspec": {
   "display_name": "Python 3",
   "language": "python",
   "name": "python3"
  },
  "language_info": {
   "codemirror_mode": {
    "name": "ipython",
    "version": 3
   },
   "file_extension": ".py",
   "mimetype": "text/x-python",
   "name": "python",
   "nbconvert_exporter": "python",
   "pygments_lexer": "ipython3",
   "version": "3.6.12"
  }
 },
 "nbformat": 4,
 "nbformat_minor": 4
}
